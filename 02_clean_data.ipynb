{
 "cells": [
  {
   "cell_type": "code",
   "execution_count": 2,
   "metadata": {},
   "outputs": [
    {
     "name": "stderr",
     "output_type": "stream",
     "text": [
      "[nltk_data] Downloading package stopwords to\n",
      "[nltk_data]     /Users/djdelrio/nltk_data...\n",
      "[nltk_data]   Package stopwords is already up-to-date!\n"
     ]
    },
    {
     "data": {
      "text/plain": [
       "True"
      ]
     },
     "execution_count": 2,
     "metadata": {},
     "output_type": "execute_result"
    }
   ],
   "source": [
    "import nltk\n",
    "nltk.download('stopwords')"
   ]
  },
  {
   "cell_type": "code",
   "execution_count": 1,
   "metadata": {},
   "outputs": [],
   "source": [
    "import pandas as pd\n",
    "from scraper_functions import has_no_words\n",
    "import re"
   ]
  },
  {
   "cell_type": "code",
   "execution_count": 3,
   "metadata": {},
   "outputs": [],
   "source": [
    "from nltk.corpus import stopwords\n",
    "stopwords = stopwords.words('english')\n",
    "# stopwords.remove('no')\n",
    "# stopwords.remove('not')\n",
    "fil_stopwords = ['ang', 'po', 'naman', 'ito', 'medyo', 'may', 'yung', 'kasi', 'sa', 'na', 'ng', 'ko', 'ba', 'ako', 'lang']\n",
    "for word in fil_stopwords:\n",
    "    stopwords.append(word)"
   ]
  },
  {
   "cell_type": "code",
   "execution_count": 4,
   "metadata": {},
   "outputs": [
    {
     "data": {
      "text/plain": [
       "(420, 3)"
      ]
     },
     "execution_count": 4,
     "metadata": {},
     "output_type": "execute_result"
    }
   ],
   "source": [
    "file_name = 'tika_transcript'\n",
    "\n",
    "df = pd.read_csv('data/{}.csv'.format(file_name), index_col=0)\n",
    "df.shape"
   ]
  },
  {
   "cell_type": "code",
   "execution_count": 5,
   "metadata": {},
   "outputs": [
    {
     "data": {
      "text/html": [
       "<div>\n",
       "<style scoped>\n",
       "    .dataframe tbody tr th:only-of-type {\n",
       "        vertical-align: middle;\n",
       "    }\n",
       "\n",
       "    .dataframe tbody tr th {\n",
       "        vertical-align: top;\n",
       "    }\n",
       "\n",
       "    .dataframe thead th {\n",
       "        text-align: right;\n",
       "    }\n",
       "</style>\n",
       "<table border=\"1\" class=\"dataframe\">\n",
       "  <thead>\n",
       "    <tr style=\"text-align: right;\">\n",
       "      <th></th>\n",
       "      <th>title</th>\n",
       "      <th>date</th>\n",
       "      <th>text</th>\n",
       "    </tr>\n",
       "  </thead>\n",
       "  <tbody>\n",
       "    <tr>\n",
       "      <td>0</td>\n",
       "      <td>Talk to the People of President Rodrigo Roa Du...</td>\n",
       "      <td>2020-05-04</td>\n",
       "      <td>\\n\\n\\n\\n\\n\\n\\n\\n\\n\\n\\n\\n\\n\\n\\n\\n\\n\\n\\n\\n\\n\\n\\n...</td>\n",
       "    </tr>\n",
       "    <tr>\n",
       "      <td>1</td>\n",
       "      <td>Talk to the People of President Rodrigo Roa Du...</td>\n",
       "      <td>2020-04-27</td>\n",
       "      <td>\\n\\n\\n\\n\\n\\n\\n\\n\\n\\n\\n\\n\\n\\n\\n\\n\\n\\n\\n\\n\\n\\n\\n...</td>\n",
       "    </tr>\n",
       "    <tr>\n",
       "      <td>2</td>\n",
       "      <td>Talk to the People of President Rodrigo Roa Du...</td>\n",
       "      <td>2020-04-24</td>\n",
       "      <td>\\n\\n\\n\\n\\n\\n\\n\\n\\n\\n\\n\\n\\n\\n\\n\\n\\n\\n\\n\\n\\n\\n\\n...</td>\n",
       "    </tr>\n",
       "    <tr>\n",
       "      <td>3</td>\n",
       "      <td>Talk to the People of President Rodrigo Roa Du...</td>\n",
       "      <td>2020-04-16</td>\n",
       "      <td>\\n\\n\\n\\n\\n\\n\\n\\n\\n\\n\\n\\n\\n\\n\\n\\n\\n\\n\\n\\n\\n\\n\\n...</td>\n",
       "    </tr>\n",
       "    <tr>\n",
       "      <td>4</td>\n",
       "      <td>Intervention of President Rodrigo Roa Duterte ...</td>\n",
       "      <td>2020-04-14</td>\n",
       "      <td>\\n\\n\\n\\n\\n\\n\\n\\n\\n\\n\\n\\n\\n\\n\\n\\n\\n\\n\\n\\n\\n\\n\\n...</td>\n",
       "    </tr>\n",
       "    <tr>\n",
       "      <td>5</td>\n",
       "      <td>Intervention of President Rodrigo Roa Duterte ...</td>\n",
       "      <td>2020-04-14</td>\n",
       "      <td>\\n\\n\\n\\n\\n\\n\\n\\n\\n\\n\\n\\n\\n\\n\\n\\n\\n\\n\\n\\n\\n\\n\\n...</td>\n",
       "    </tr>\n",
       "    <tr>\n",
       "      <td>6</td>\n",
       "      <td>Talk to the People of President Rodrigo Roa Du...</td>\n",
       "      <td>2020-04-13</td>\n",
       "      <td>\\n\\n\\n\\n\\n\\n\\n\\n\\n\\n\\n\\n\\n\\n\\n\\n\\n\\n\\n\\n\\n\\n\\n...</td>\n",
       "    </tr>\n",
       "    <tr>\n",
       "      <td>7</td>\n",
       "      <td>Meeting of President Rodrigo Roa Duterte with ...</td>\n",
       "      <td>2020-04-08</td>\n",
       "      <td>\\n\\n\\n\\n\\n\\n\\n\\n\\n\\n\\n\\n\\n\\n\\n\\n\\n\\n\\n\\n\\n\\n\\n...</td>\n",
       "    </tr>\n",
       "    <tr>\n",
       "      <td>8</td>\n",
       "      <td>Talk to the Nation of President Rodrigo Roa Du...</td>\n",
       "      <td>2020-04-06</td>\n",
       "      <td>\\n\\n\\n\\n\\n\\n\\n\\n\\n\\n\\n\\n\\n\\n\\n\\n\\n\\n\\n\\n\\n\\n\\n...</td>\n",
       "    </tr>\n",
       "    <tr>\n",
       "      <td>9</td>\n",
       "      <td>Talk to the Nation on COVID-19 of President Ro...</td>\n",
       "      <td>2020-04-03</td>\n",
       "      <td>\\n\\n\\n\\n\\n\\n\\n\\n\\n\\n\\n\\n\\n\\n\\n\\n\\n\\n\\n\\n\\n\\n\\n...</td>\n",
       "    </tr>\n",
       "  </tbody>\n",
       "</table>\n",
       "</div>"
      ],
      "text/plain": [
       "                                               title       date  \\\n",
       "0  Talk to the People of President Rodrigo Roa Du... 2020-05-04   \n",
       "1  Talk to the People of President Rodrigo Roa Du... 2020-04-27   \n",
       "2  Talk to the People of President Rodrigo Roa Du... 2020-04-24   \n",
       "3  Talk to the People of President Rodrigo Roa Du... 2020-04-16   \n",
       "4  Intervention of President Rodrigo Roa Duterte ... 2020-04-14   \n",
       "5  Intervention of President Rodrigo Roa Duterte ... 2020-04-14   \n",
       "6  Talk to the People of President Rodrigo Roa Du... 2020-04-13   \n",
       "7  Meeting of President Rodrigo Roa Duterte with ... 2020-04-08   \n",
       "8  Talk to the Nation of President Rodrigo Roa Du... 2020-04-06   \n",
       "9  Talk to the Nation on COVID-19 of President Ro... 2020-04-03   \n",
       "\n",
       "                                                text  \n",
       "0  \\n\\n\\n\\n\\n\\n\\n\\n\\n\\n\\n\\n\\n\\n\\n\\n\\n\\n\\n\\n\\n\\n\\n...  \n",
       "1  \\n\\n\\n\\n\\n\\n\\n\\n\\n\\n\\n\\n\\n\\n\\n\\n\\n\\n\\n\\n\\n\\n\\n...  \n",
       "2  \\n\\n\\n\\n\\n\\n\\n\\n\\n\\n\\n\\n\\n\\n\\n\\n\\n\\n\\n\\n\\n\\n\\n...  \n",
       "3  \\n\\n\\n\\n\\n\\n\\n\\n\\n\\n\\n\\n\\n\\n\\n\\n\\n\\n\\n\\n\\n\\n\\n...  \n",
       "4  \\n\\n\\n\\n\\n\\n\\n\\n\\n\\n\\n\\n\\n\\n\\n\\n\\n\\n\\n\\n\\n\\n\\n...  \n",
       "5  \\n\\n\\n\\n\\n\\n\\n\\n\\n\\n\\n\\n\\n\\n\\n\\n\\n\\n\\n\\n\\n\\n\\n...  \n",
       "6  \\n\\n\\n\\n\\n\\n\\n\\n\\n\\n\\n\\n\\n\\n\\n\\n\\n\\n\\n\\n\\n\\n\\n...  \n",
       "7  \\n\\n\\n\\n\\n\\n\\n\\n\\n\\n\\n\\n\\n\\n\\n\\n\\n\\n\\n\\n\\n\\n\\n...  \n",
       "8  \\n\\n\\n\\n\\n\\n\\n\\n\\n\\n\\n\\n\\n\\n\\n\\n\\n\\n\\n\\n\\n\\n\\n...  \n",
       "9  \\n\\n\\n\\n\\n\\n\\n\\n\\n\\n\\n\\n\\n\\n\\n\\n\\n\\n\\n\\n\\n\\n\\n...  "
      ]
     },
     "execution_count": 5,
     "metadata": {},
     "output_type": "execute_result"
    }
   ],
   "source": [
    "df['date'] = pd.to_datetime(df['date'], format='%B %d, %Y')\n",
    "df = df.sort_values('date', ascending=False).reset_index().drop('index', axis=1)\n",
    "df.head(10)"
   ]
  },
  {
   "cell_type": "code",
   "execution_count": 6,
   "metadata": {},
   "outputs": [
    {
     "name": "stdout",
     "output_type": "stream",
     "text": [
      "President Rodrigo Roa Duterte at “Give Us This Day” by Pastor Apollo C. Quiboloy\n",
      " \n",
      "\n",
      "  \n",
      "\n",
      "  \n",
      "PRESIDENT DUTERTE: …flood the country with drugs, it really means the \n",
      "\n",
      "end of it. It’s a deadlock. \n",
      "\n",
      "  \n",
      "\n",
      "Mexico, there is the [Sinaloa]. There is the cartel versus Mexico. I would not \n",
      "\n",
      "want that to happen. \n",
      "\n",
      "  \n",
      "\n",
      "There’s a very strange side story in this, Pastor. Alunan, Secretary Alunan, \n",
      "\n",
      "one of the brightest of the Cabinet --- among the Cabinet members of \n",
      "\n",
      "President Ramos. Alunan was called by the DEA in America --- that is the \n",
      "\n",
      "Drug Enforcement Agency and he was told point-blank that if your country \n",
      "\n",
      "cannot improve on its present situation combatting drugs, it would not be a \n",
      "\n",
      "surprise thing for us if your country becomes a narco state. \n",
      "\n",
      "  \n",
      "An\n",
      "===============================\n",
      "ry own. \n",
      "We want him to know that the congregation of the Kingdom is always \n",
      "\n",
      "praying for your good health, for your security, for your long life, \n",
      "\n",
      "and the continuous success of your crusade that you have promised the \n",
      "\n",
      "Filipino people and that exactly that is what you’re doing and the work ethics \n",
      "\n",
      "that the Filipino people have really appreciated in doing the promise you had \n",
      "\n",
      "made them. In just over three years, the Philippines has changed into what \n",
      "\n",
      "every Filipino wanted it to be.  \n",
      "\n",
      "  \n",
      "\n",
      "And so we thank the Father for that, Mr. President. And that the Father will \n",
      "\n",
      "always guide you, bless you, and always give you the wisdom to lead our \n",
      "\n",
      "people into that place where we are now and more so in the three years to \n",
      "\n",
      "come of your presidency.  \n",
      "  \n",
      "\n",
      "So we thank the Almighty Father for that. And you will always have our \n",
      "\n",
      "support and our prayers for you, all the days of your life, you and your \n",
      "\n",
      "family. May the Father bless you now and forever. Amen. [applause] \n",
      "\n",
      "  \n",
      "\n",
      "--- END --- \n",
      "\n",
      "  \n",
      " \n",
      "\n",
      "\n",
      "\n"
     ]
    }
   ],
   "source": [
    "# Example of speech; remove everything before the date\n",
    "entry = df.loc[150]\n",
    "sample = entry['text']\n",
    "index = sample.find(']')\n",
    "print(entry['title'])\n",
    "print(sample[index+1:1000])\n",
    "print('===============================')\n",
    "print(sample[-1000:])"
   ]
  },
  {
   "cell_type": "markdown",
   "metadata": {},
   "source": [
    "## Cleaning the Data"
   ]
  },
  {
   "cell_type": "code",
   "execution_count": 11,
   "metadata": {},
   "outputs": [],
   "source": [
    "def clean_data(text):\n",
    "    if not isinstance(text, float):\n",
    "        index_of_date = text.find(']')\n",
    "        text = text[index_of_date+1:]\n",
    "        text = text.lower()\n",
    "    #     I included the asterisk * to include swears\n",
    "        text = re.sub(r'([^A-Z a-z*\\'\\[\\]])|', '', text)\n",
    "\n",
    "    #     Not sure if I will still remove stopwords\n",
    "        text = ' '.join([word for word in text.split() if word not in stopwords])\n",
    "\n",
    "        text = text.replace('presidential news desk', '')\n",
    "        text = text.replace('pcoopnd', '')\n",
    "\n",
    "        text = ' '.join(text.split())\n",
    "    \n",
    "    return text"
   ]
  },
  {
   "cell_type": "code",
   "execution_count": 12,
   "metadata": {},
   "outputs": [],
   "source": [
    "df['clean_text'] = df['text'].apply(clean_data)"
   ]
  },
  {
   "cell_type": "code",
   "execution_count": 13,
   "metadata": {},
   "outputs": [
    {
     "data": {
      "text/plain": [
       "'mga kapatid kong pilipino nandito harap ninyo reklamo hindi ngayon kayo akin kung magreklamo inyo una itong quarantine natin enhanced ano really intended protect guy kung ayaw mo maprotektahan ka reason behind kung bakit ka pinipigilan para kapwa tao mo sense kung ayaw talaga ninyong maniwala nagmamatigas ulo ninyo kulang disiplina aba eh talagang hindi mahihinto every time magdidikit kayo eh nakita nagsasabong kayo painom pa know im calling local government units kindly follow direction guidelines hindi nga namimilit hindi nga martial law eh even martial law put people prison walang rason martial law wala namang virus diyan wala namang'"
      ]
     },
     "execution_count": 13,
     "metadata": {},
     "output_type": "execute_result"
    }
   ],
   "source": [
    "' '.join(df.loc[3]['clean_text'].split()[:100])"
   ]
  },
  {
   "cell_type": "markdown",
   "metadata": {},
   "source": [
    "## Saving cleaned text as CSV"
   ]
  },
  {
   "cell_type": "code",
   "execution_count": 17,
   "metadata": {},
   "outputs": [],
   "source": [
    "# Remove NaN values\n",
    "df = df.dropna()"
   ]
  },
  {
   "cell_type": "code",
   "execution_count": 18,
   "metadata": {},
   "outputs": [
    {
     "data": {
      "text/html": [
       "<div>\n",
       "<style scoped>\n",
       "    .dataframe tbody tr th:only-of-type {\n",
       "        vertical-align: middle;\n",
       "    }\n",
       "\n",
       "    .dataframe tbody tr th {\n",
       "        vertical-align: top;\n",
       "    }\n",
       "\n",
       "    .dataframe thead th {\n",
       "        text-align: right;\n",
       "    }\n",
       "</style>\n",
       "<table border=\"1\" class=\"dataframe\">\n",
       "  <thead>\n",
       "    <tr style=\"text-align: right;\">\n",
       "      <th></th>\n",
       "      <th>title</th>\n",
       "      <th>date</th>\n",
       "      <th>text</th>\n",
       "      <th>clean_text</th>\n",
       "    </tr>\n",
       "  </thead>\n",
       "  <tbody>\n",
       "    <tr>\n",
       "      <td>0</td>\n",
       "      <td>Talk to the People of President Rodrigo Roa Du...</td>\n",
       "      <td>2020-05-04</td>\n",
       "      <td>\\n\\n\\n\\n\\n\\n\\n\\n\\n\\n\\n\\n\\n\\n\\n\\n\\n\\n\\n\\n\\n\\n\\n...</td>\n",
       "      <td>president duterte reduced changed way life eve...</td>\n",
       "    </tr>\n",
       "    <tr>\n",
       "      <td>1</td>\n",
       "      <td>Talk to the People of President Rodrigo Roa Du...</td>\n",
       "      <td>2020-04-27</td>\n",
       "      <td>\\n\\n\\n\\n\\n\\n\\n\\n\\n\\n\\n\\n\\n\\n\\n\\n\\n\\n\\n\\n\\n\\n\\n...</td>\n",
       "      <td>dost secretary fortunato dela pea susunod kahi...</td>\n",
       "    </tr>\n",
       "    <tr>\n",
       "      <td>2</td>\n",
       "      <td>Talk to the People of President Rodrigo Roa Du...</td>\n",
       "      <td>2020-04-24</td>\n",
       "      <td>\\n\\n\\n\\n\\n\\n\\n\\n\\n\\n\\n\\n\\n\\n\\n\\n\\n\\n\\n\\n\\n\\n\\n...</td>\n",
       "      <td>presidential spokesperson harry roque magandan...</td>\n",
       "    </tr>\n",
       "    <tr>\n",
       "      <td>3</td>\n",
       "      <td>Talk to the People of President Rodrigo Roa Du...</td>\n",
       "      <td>2020-04-16</td>\n",
       "      <td>\\n\\n\\n\\n\\n\\n\\n\\n\\n\\n\\n\\n\\n\\n\\n\\n\\n\\n\\n\\n\\n\\n\\n...</td>\n",
       "      <td>mga kapatid kong pilipino nandito harap ninyo ...</td>\n",
       "    </tr>\n",
       "    <tr>\n",
       "      <td>4</td>\n",
       "      <td>Intervention of President Rodrigo Roa Duterte ...</td>\n",
       "      <td>2020-04-14</td>\n",
       "      <td>\\n\\n\\n\\n\\n\\n\\n\\n\\n\\n\\n\\n\\n\\n\\n\\n\\n\\n\\n\\n\\n\\n\\n...</td>\n",
       "      <td>thank mr chair majesty excellencies welcome le...</td>\n",
       "    </tr>\n",
       "  </tbody>\n",
       "</table>\n",
       "</div>"
      ],
      "text/plain": [
       "                                               title       date  \\\n",
       "0  Talk to the People of President Rodrigo Roa Du... 2020-05-04   \n",
       "1  Talk to the People of President Rodrigo Roa Du... 2020-04-27   \n",
       "2  Talk to the People of President Rodrigo Roa Du... 2020-04-24   \n",
       "3  Talk to the People of President Rodrigo Roa Du... 2020-04-16   \n",
       "4  Intervention of President Rodrigo Roa Duterte ... 2020-04-14   \n",
       "\n",
       "                                                text  \\\n",
       "0  \\n\\n\\n\\n\\n\\n\\n\\n\\n\\n\\n\\n\\n\\n\\n\\n\\n\\n\\n\\n\\n\\n\\n...   \n",
       "1  \\n\\n\\n\\n\\n\\n\\n\\n\\n\\n\\n\\n\\n\\n\\n\\n\\n\\n\\n\\n\\n\\n\\n...   \n",
       "2  \\n\\n\\n\\n\\n\\n\\n\\n\\n\\n\\n\\n\\n\\n\\n\\n\\n\\n\\n\\n\\n\\n\\n...   \n",
       "3  \\n\\n\\n\\n\\n\\n\\n\\n\\n\\n\\n\\n\\n\\n\\n\\n\\n\\n\\n\\n\\n\\n\\n...   \n",
       "4  \\n\\n\\n\\n\\n\\n\\n\\n\\n\\n\\n\\n\\n\\n\\n\\n\\n\\n\\n\\n\\n\\n\\n...   \n",
       "\n",
       "                                          clean_text  \n",
       "0  president duterte reduced changed way life eve...  \n",
       "1  dost secretary fortunato dela pea susunod kahi...  \n",
       "2  presidential spokesperson harry roque magandan...  \n",
       "3  mga kapatid kong pilipino nandito harap ninyo ...  \n",
       "4  thank mr chair majesty excellencies welcome le...  "
      ]
     },
     "execution_count": 18,
     "metadata": {},
     "output_type": "execute_result"
    }
   ],
   "source": [
    "df.to_csv('data/{}_clean.csv'.format(file_name))\n",
    "df.head()"
   ]
  },
  {
   "cell_type": "code",
   "execution_count": null,
   "metadata": {},
   "outputs": [],
   "source": []
  }
 ],
 "metadata": {
  "kernelspec": {
   "display_name": "dutertespeech",
   "language": "python",
   "name": "dutertespeech"
  },
  "language_info": {
   "codemirror_mode": {
    "name": "ipython",
    "version": 3
   },
   "file_extension": ".py",
   "mimetype": "text/x-python",
   "name": "python",
   "nbconvert_exporter": "python",
   "pygments_lexer": "ipython3",
   "version": "3.7.7"
  }
 },
 "nbformat": 4,
 "nbformat_minor": 4
}
