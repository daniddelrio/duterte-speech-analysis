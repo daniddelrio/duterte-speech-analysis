{
 "cells": [
  {
   "cell_type": "code",
   "execution_count": 23,
   "metadata": {},
   "outputs": [
    {
     "name": "stderr",
     "output_type": "stream",
     "text": [
      "[nltk_data] Downloading package stopwords to\n",
      "[nltk_data]     /Users/djdelrio/nltk_data...\n",
      "[nltk_data]   Package stopwords is already up-to-date!\n"
     ]
    },
    {
     "data": {
      "text/plain": [
       "True"
      ]
     },
     "execution_count": 23,
     "metadata": {},
     "output_type": "execute_result"
    }
   ],
   "source": [
    "import nltk\n",
    "nltk.download('stopwords')"
   ]
  },
  {
   "cell_type": "code",
   "execution_count": 24,
   "metadata": {},
   "outputs": [],
   "source": [
    "import pandas as pd\n",
    "from scraper_functions import has_no_words\n",
    "import re"
   ]
  },
  {
   "cell_type": "code",
   "execution_count": 57,
   "metadata": {},
   "outputs": [],
   "source": [
    "from nltk.corpus import stopwords\n",
    "stopwords = stopwords.words('english')\n",
    "# stopwords.remove('no')\n",
    "# stopwords.remove('not')\n",
    "fil_stopwords = ['ang', 'po', 'naman', 'ito', 'medyo', 'may', 'yung', 'kasi', 'sa', 'na', 'ng', 'ko', 'ba', 'ako', 'lang']\n",
    "for word in fil_stopwords:\n",
    "    stopwords.append(word)"
   ]
  },
  {
   "cell_type": "code",
   "execution_count": 33,
   "metadata": {},
   "outputs": [
    {
     "data": {
      "text/plain": [
       "(421, 3)"
      ]
     },
     "execution_count": 33,
     "metadata": {},
     "output_type": "execute_result"
    }
   ],
   "source": [
    "file_name = 'pypdf_transcript'\n",
    "\n",
    "df = pd.read_csv('{}.csv'.format(file_name), index_col=0)\n",
    "df.shape"
   ]
  },
  {
   "cell_type": "code",
   "execution_count": 34,
   "metadata": {},
   "outputs": [
    {
     "data": {
      "text/html": [
       "<div>\n",
       "<style scoped>\n",
       "    .dataframe tbody tr th:only-of-type {\n",
       "        vertical-align: middle;\n",
       "    }\n",
       "\n",
       "    .dataframe tbody tr th {\n",
       "        vertical-align: top;\n",
       "    }\n",
       "\n",
       "    .dataframe thead th {\n",
       "        text-align: right;\n",
       "    }\n",
       "</style>\n",
       "<table border=\"1\" class=\"dataframe\">\n",
       "  <thead>\n",
       "    <tr style=\"text-align: right;\">\n",
       "      <th></th>\n",
       "      <th>title</th>\n",
       "      <th>date</th>\n",
       "      <th>text</th>\n",
       "    </tr>\n",
       "  </thead>\n",
       "  <tbody>\n",
       "    <tr>\n",
       "      <td>0</td>\n",
       "      <td>Talk to the People of President Rodrigo Roa Du...</td>\n",
       "      <td>2020-04-27</td>\n",
       "      <td>Presidential Communications Operations Office\\...</td>\n",
       "    </tr>\n",
       "    <tr>\n",
       "      <td>1</td>\n",
       "      <td>Talk to the People of President Rodrigo Roa Du...</td>\n",
       "      <td>2020-04-24</td>\n",
       "      <td>Presidential Communications Operations Office\\...</td>\n",
       "    </tr>\n",
       "    <tr>\n",
       "      <td>2</td>\n",
       "      <td>Talk to the People of President Rodrigo Roa Du...</td>\n",
       "      <td>2020-04-16</td>\n",
       "      <td>Presidential Communications Operations Office\\...</td>\n",
       "    </tr>\n",
       "    <tr>\n",
       "      <td>3</td>\n",
       "      <td>Intervention of President Rodrigo Roa Duterte ...</td>\n",
       "      <td>2020-04-14</td>\n",
       "      <td>Presidential Communications Operations Office\\...</td>\n",
       "    </tr>\n",
       "    <tr>\n",
       "      <td>4</td>\n",
       "      <td>Intervention of President Rodrigo Roa Duterte ...</td>\n",
       "      <td>2020-04-14</td>\n",
       "      <td>Presidential Communications Operations Office\\...</td>\n",
       "    </tr>\n",
       "    <tr>\n",
       "      <td>5</td>\n",
       "      <td>Talk to the People of President Rodrigo Roa Du...</td>\n",
       "      <td>2020-04-13</td>\n",
       "      <td>Presidential Communications Operations Office\\...</td>\n",
       "    </tr>\n",
       "    <tr>\n",
       "      <td>6</td>\n",
       "      <td>Meeting of President Rodrigo Roa Duterte with ...</td>\n",
       "      <td>2020-04-08</td>\n",
       "      <td>Presidential Communications Operations Office\\...</td>\n",
       "    </tr>\n",
       "    <tr>\n",
       "      <td>7</td>\n",
       "      <td>Talk to the Nation of President Rodrigo Roa Du...</td>\n",
       "      <td>2020-04-06</td>\n",
       "      <td>Presidential Communications Operations Office\\...</td>\n",
       "    </tr>\n",
       "    <tr>\n",
       "      <td>8</td>\n",
       "      <td>Talk to the Nation on COVID-19 of President Ro...</td>\n",
       "      <td>2020-04-03</td>\n",
       "      <td>Presidential Communications Operations Office\\...</td>\n",
       "    </tr>\n",
       "    <tr>\n",
       "      <td>9</td>\n",
       "      <td>Nation Address of President Rodrigo Roa Dutert...</td>\n",
       "      <td>2020-04-01</td>\n",
       "      <td>Presidential Communications Operations Office\\...</td>\n",
       "    </tr>\n",
       "  </tbody>\n",
       "</table>\n",
       "</div>"
      ],
      "text/plain": [
       "                                               title       date  \\\n",
       "0  Talk to the People of President Rodrigo Roa Du... 2020-04-27   \n",
       "1  Talk to the People of President Rodrigo Roa Du... 2020-04-24   \n",
       "2  Talk to the People of President Rodrigo Roa Du... 2020-04-16   \n",
       "3  Intervention of President Rodrigo Roa Duterte ... 2020-04-14   \n",
       "4  Intervention of President Rodrigo Roa Duterte ... 2020-04-14   \n",
       "5  Talk to the People of President Rodrigo Roa Du... 2020-04-13   \n",
       "6  Meeting of President Rodrigo Roa Duterte with ... 2020-04-08   \n",
       "7  Talk to the Nation of President Rodrigo Roa Du... 2020-04-06   \n",
       "8  Talk to the Nation on COVID-19 of President Ro... 2020-04-03   \n",
       "9  Nation Address of President Rodrigo Roa Dutert... 2020-04-01   \n",
       "\n",
       "                                                text  \n",
       "0  Presidential Communications Operations Office\\...  \n",
       "1  Presidential Communications Operations Office\\...  \n",
       "2  Presidential Communications Operations Office\\...  \n",
       "3  Presidential Communications Operations Office\\...  \n",
       "4  Presidential Communications Operations Office\\...  \n",
       "5  Presidential Communications Operations Office\\...  \n",
       "6  Presidential Communications Operations Office\\...  \n",
       "7  Presidential Communications Operations Office\\...  \n",
       "8  Presidential Communications Operations Office\\...  \n",
       "9  Presidential Communications Operations Office\\...  "
      ]
     },
     "execution_count": 34,
     "metadata": {},
     "output_type": "execute_result"
    }
   ],
   "source": [
    "df['date'] = pd.to_datetime(df['date'], format='%B %d, %Y')\n",
    "df = df.sort_values('date', ascending=False).reset_index().drop('index', axis=1)\n",
    "df.head(10)"
   ]
  },
  {
   "cell_type": "code",
   "execution_count": 35,
   "metadata": {},
   "outputs": [
    {
     "name": "stdout",
     "output_type": "stream",
     "text": [
      "President Rodrigo Roa Duterte at “Give Us This Day” by Pastor Apollo C. Quiboloy\n",
      "\n",
      " \n",
      " \n",
      " \n",
      " \n",
      " \n",
      "PRESIDENT DUTERTE:\n",
      " \n",
      "\n",
      "\n",
      " \n",
      " \n",
      " \n",
      "Mexico, there is the [Sinaloa]. There is the cartel versus Mexico. I would not \n",
      "want that to happen.\n",
      " \n",
      " \n",
      " \n",
      "\n",
      "lunan, Secretary Alunan, \n",
      "one of the brightest of the Cabinet \n",
      "---\n",
      " \n",
      "among the Cabinet members of \n",
      "President Ramos. Alunan was called by the DEA in America \n",
      "---\n",
      " \n",
      "that is the \n",
      "Drug Enforcement Agency and he was told point\n",
      "-\n",
      "blank that if your country \n",
      "cannot improve o\n",
      "n its present situation combatting drugs, it would not be a \n",
      "surprise thing for us if your country becomes a narco state.\n",
      " \n",
      " \n",
      " \n",
      "And that was during the time of President Ramos and I was a mayor and I \n",
      "was one of those called to Malacañan to hear the lecture of A\n",
      "lunan that the \n",
      "possibility of narco p\n",
      "===============================\n",
      "mighty for the honor\n",
      " \n",
      "and the visit of our beloved President, our very own. \n",
      "We want him to know that the\n",
      " \n",
      "congregati\n",
      "on of the Kingdom is always \n",
      "praying for your good health, for your security, for your long life, \n",
      "and\n",
      " \n",
      "the\n",
      " \n",
      "continuous success of your crusade that you have promised the \n",
      "\n",
      "that the F\n",
      "ilipino people have really appreciated in doing the promise you had \n",
      "made them. In just over three years, the Philippines has changed into what \n",
      "every Filipino wanted it to be.\n",
      " \n",
      " \n",
      " \n",
      " \n",
      "And so we thank the Father for that, Mr. President. And that the Father will \n",
      "a\n",
      "lways guide you, bless you, and always give you the wisdom to lead our \n",
      "people into that place where we are now and more so in the three years to \n",
      "come of your presidency.\n",
      " \n",
      " \n",
      " \n",
      " \n",
      "So we thank the Almighty Father for that.\n",
      " \n",
      "And you will always have our \n",
      "support and \n",
      "our prayers for you, all the days of your life, you and your \n",
      "family.\n",
      " \n",
      "May the Father bless you now and forever. Amen.\n",
      " \n",
      "[applause]\n",
      " \n",
      " \n",
      " \n",
      "---\n",
      " \n",
      "END \n",
      "---\n",
      " \n",
      " \n",
      " \n",
      " \n",
      "\n"
     ]
    }
   ],
   "source": [
    "# Example of speech; remove everything before the date\n",
    "entry = df.loc[150]\n",
    "sample = entry['text']\n",
    "index = sample.find(']')\n",
    "print(entry['title'])\n",
    "print(sample[index+1:1000])\n",
    "print('===============================')\n",
    "print(sample[-1000:])"
   ]
  },
  {
   "cell_type": "markdown",
   "metadata": {},
   "source": [
    "## Cleaning the Data"
   ]
  },
  {
   "cell_type": "code",
   "execution_count": 61,
   "metadata": {},
   "outputs": [],
   "source": [
    "def clean_data(text):\n",
    "    index_of_date = text.find(']')\n",
    "    text = text[index_of_date+1:]\n",
    "    text = text.lower()\n",
    "#     I included the asterisk * to include swears\n",
    "    text = re.sub(r'([^A-Z a-z*\\'\\[\\]])|', '', text)\n",
    "    \n",
    "#     Not sure if I will still remove stopwords\n",
    "    text = ' '.join([word for word in text.split() if word not in stopwords])\n",
    "    \n",
    "    text = text.replace('presidential news desk', '')\n",
    "    text = text.replace('pcoopnd', '')\n",
    "    \n",
    "    text = ' '.join(text.split())\n",
    "    \n",
    "    return text"
   ]
  },
  {
   "cell_type": "code",
   "execution_count": 62,
   "metadata": {},
   "outputs": [],
   "source": [
    "df['clean_text'] = df['text'].apply(clean_data)"
   ]
  },
  {
   "cell_type": "code",
   "execution_count": 63,
   "metadata": {},
   "outputs": [
    {
     "data": {
      "text/plain": [
       "'thank mr chair majesty excellencies also extend warm welcome excellency muhyiddin yassin prime minister malaysia middle unfolding catastrophe unprecedented scale devastating impact face new different kind enemy visceral way covid upending totality way life virus threatens exact highest tolls peoples economies forced impose drastic measures address pandemic asked people distance stay home reduced socioeconomic activities barest minimum closed borders creating barriers mobility trade immediate responses necessary could drive societies larger international community apart yet effective strategic response requires come together cooperate even retreating regional global connections cannot answer effectively overcome challenge covid pandemic asean must collaborate coordinate within region beyond'"
      ]
     },
     "execution_count": 63,
     "metadata": {},
     "output_type": "execute_result"
    }
   ],
   "source": [
    "' '.join(df.loc[3]['clean_text'].split()[:100])"
   ]
  },
  {
   "cell_type": "markdown",
   "metadata": {},
   "source": [
    "## Saving cleaned text as CSV"
   ]
  },
  {
   "cell_type": "code",
   "execution_count": 64,
   "metadata": {},
   "outputs": [
    {
     "data": {
      "text/html": [
       "<div>\n",
       "<style scoped>\n",
       "    .dataframe tbody tr th:only-of-type {\n",
       "        vertical-align: middle;\n",
       "    }\n",
       "\n",
       "    .dataframe tbody tr th {\n",
       "        vertical-align: top;\n",
       "    }\n",
       "\n",
       "    .dataframe thead th {\n",
       "        text-align: right;\n",
       "    }\n",
       "</style>\n",
       "<table border=\"1\" class=\"dataframe\">\n",
       "  <thead>\n",
       "    <tr style=\"text-align: right;\">\n",
       "      <th></th>\n",
       "      <th>title</th>\n",
       "      <th>date</th>\n",
       "      <th>text</th>\n",
       "      <th>clean_text</th>\n",
       "    </tr>\n",
       "  </thead>\n",
       "  <tbody>\n",
       "    <tr>\n",
       "      <td>0</td>\n",
       "      <td>Talk to the People of President Rodrigo Roa Du...</td>\n",
       "      <td>2020-04-27</td>\n",
       "      <td>Presidential Communications Operations Office\\...</td>\n",
       "      <td>dost secretary fortunato dela pea susunod kahi...</td>\n",
       "    </tr>\n",
       "    <tr>\n",
       "      <td>1</td>\n",
       "      <td>Talk to the People of President Rodrigo Roa Du...</td>\n",
       "      <td>2020-04-24</td>\n",
       "      <td>Presidential Communications Operations Office\\...</td>\n",
       "      <td>presidential spokesperson harry roque magandan...</td>\n",
       "    </tr>\n",
       "    <tr>\n",
       "      <td>2</td>\n",
       "      <td>Talk to the People of President Rodrigo Roa Du...</td>\n",
       "      <td>2020-04-16</td>\n",
       "      <td>Presidential Communications Operations Office\\...</td>\n",
       "      <td>hindi ngayon kayo akin kung magreklamo inyo ay...</td>\n",
       "    </tr>\n",
       "    <tr>\n",
       "      <td>3</td>\n",
       "      <td>Intervention of President Rodrigo Roa Duterte ...</td>\n",
       "      <td>2020-04-14</td>\n",
       "      <td>Presidential Communications Operations Office\\...</td>\n",
       "      <td>thank mr chair majesty excellencies also exten...</td>\n",
       "    </tr>\n",
       "    <tr>\n",
       "      <td>4</td>\n",
       "      <td>Intervention of President Rodrigo Roa Duterte ...</td>\n",
       "      <td>2020-04-14</td>\n",
       "      <td>Presidential Communications Operations Office\\...</td>\n",
       "      <td>thank mr chair majesty excellencies welcome le...</td>\n",
       "    </tr>\n",
       "  </tbody>\n",
       "</table>\n",
       "</div>"
      ],
      "text/plain": [
       "                                               title       date  \\\n",
       "0  Talk to the People of President Rodrigo Roa Du... 2020-04-27   \n",
       "1  Talk to the People of President Rodrigo Roa Du... 2020-04-24   \n",
       "2  Talk to the People of President Rodrigo Roa Du... 2020-04-16   \n",
       "3  Intervention of President Rodrigo Roa Duterte ... 2020-04-14   \n",
       "4  Intervention of President Rodrigo Roa Duterte ... 2020-04-14   \n",
       "\n",
       "                                                text  \\\n",
       "0  Presidential Communications Operations Office\\...   \n",
       "1  Presidential Communications Operations Office\\...   \n",
       "2  Presidential Communications Operations Office\\...   \n",
       "3  Presidential Communications Operations Office\\...   \n",
       "4  Presidential Communications Operations Office\\...   \n",
       "\n",
       "                                          clean_text  \n",
       "0  dost secretary fortunato dela pea susunod kahi...  \n",
       "1  presidential spokesperson harry roque magandan...  \n",
       "2  hindi ngayon kayo akin kung magreklamo inyo ay...  \n",
       "3  thank mr chair majesty excellencies also exten...  \n",
       "4  thank mr chair majesty excellencies welcome le...  "
      ]
     },
     "execution_count": 64,
     "metadata": {},
     "output_type": "execute_result"
    }
   ],
   "source": [
    "df.to_csv('{}_clean.csv'.format(file_name))\n",
    "df.head()"
   ]
  },
  {
   "cell_type": "code",
   "execution_count": null,
   "metadata": {},
   "outputs": [],
   "source": []
  }
 ],
 "metadata": {
  "kernelspec": {
   "display_name": "dutertespeech",
   "language": "python",
   "name": "dutertespeech"
  },
  "language_info": {
   "codemirror_mode": {
    "name": "ipython",
    "version": 3
   },
   "file_extension": ".py",
   "mimetype": "text/x-python",
   "name": "python",
   "nbconvert_exporter": "python",
   "pygments_lexer": "ipython3",
   "version": "3.7.7"
  }
 },
 "nbformat": 4,
 "nbformat_minor": 4
}
