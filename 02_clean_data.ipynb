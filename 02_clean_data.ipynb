{
 "cells": [
  {
   "cell_type": "code",
   "execution_count": 1,
   "metadata": {},
   "outputs": [
    {
     "name": "stderr",
     "output_type": "stream",
     "text": [
      "[nltk_data] Downloading package stopwords to\n",
      "[nltk_data]     /Users/djdelrio/nltk_data...\n",
      "[nltk_data]   Package stopwords is already up-to-date!\n"
     ]
    },
    {
     "data": {
      "text/plain": [
       "True"
      ]
     },
     "execution_count": 1,
     "metadata": {},
     "output_type": "execute_result"
    }
   ],
   "source": [
    "import nltk\n",
    "nltk.download('stopwords')"
   ]
  },
  {
   "cell_type": "code",
   "execution_count": 2,
   "metadata": {},
   "outputs": [],
   "source": [
    "import pandas as pd\n",
    "from scraper_functions import has_no_words\n",
    "import re"
   ]
  },
  {
   "cell_type": "code",
   "execution_count": 3,
   "metadata": {},
   "outputs": [],
   "source": [
    "from nltk.corpus import stopwords\n",
    "stopwords = stopwords.words('english')\n",
    "# stopwords.remove('no')\n",
    "# stopwords.remove('not')\n",
    "fil_stopwords = ['ang', 'po', 'naman', 'ito', 'medyo', 'may', 'yung', 'kasi', 'sa', 'na', 'ng', 'ko', 'ba', 'ako', 'lang']\n",
    "for word in fil_stopwords:\n",
    "    stopwords.append(word)"
   ]
  },
  {
   "cell_type": "code",
   "execution_count": 4,
   "metadata": {},
   "outputs": [
    {
     "data": {
      "text/plain": [
       "(455, 3)"
      ]
     },
     "execution_count": 4,
     "metadata": {},
     "output_type": "execute_result"
    }
   ],
   "source": [
    "file_name = 'tika_transcript'\n",
    "\n",
    "df = pd.read_csv('data/{}.csv'.format(file_name), index_col=0)\n",
    "df.shape"
   ]
  },
  {
   "cell_type": "code",
   "execution_count": 5,
   "metadata": {},
   "outputs": [
    {
     "data": {
      "text/html": [
       "<div>\n",
       "<style scoped>\n",
       "    .dataframe tbody tr th:only-of-type {\n",
       "        vertical-align: middle;\n",
       "    }\n",
       "\n",
       "    .dataframe tbody tr th {\n",
       "        vertical-align: top;\n",
       "    }\n",
       "\n",
       "    .dataframe thead th {\n",
       "        text-align: right;\n",
       "    }\n",
       "</style>\n",
       "<table border=\"1\" class=\"dataframe\">\n",
       "  <thead>\n",
       "    <tr style=\"text-align: right;\">\n",
       "      <th></th>\n",
       "      <th>title</th>\n",
       "      <th>date</th>\n",
       "      <th>text</th>\n",
       "    </tr>\n",
       "  </thead>\n",
       "  <tbody>\n",
       "    <tr>\n",
       "      <th>0</th>\n",
       "      <td>Talk to the People of President Rodrigo Roa Du...</td>\n",
       "      <td>2020-10-05</td>\n",
       "      <td>\\n\\n\\n\\n\\n\\n\\n\\n\\n\\n\\n\\n\\n\\n\\n\\n\\n\\n\\n\\n\\n\\n\\n...</td>\n",
       "    </tr>\n",
       "    <tr>\n",
       "      <th>1</th>\n",
       "      <td>Talk to the People of President Rodrigo Roa Du...</td>\n",
       "      <td>2020-09-28</td>\n",
       "      <td>\\n\\n\\n\\n\\n\\n\\n\\n\\n\\n\\n\\n\\n\\n\\n\\n\\n\\n\\n\\n\\n\\n\\n...</td>\n",
       "    </tr>\n",
       "    <tr>\n",
       "      <th>2</th>\n",
       "      <td>Statement of President Rodrigo Roa Duterte dur...</td>\n",
       "      <td>2020-09-22</td>\n",
       "      <td>\\n\\n\\n\\n\\n\\n\\n\\n\\n\\n\\n\\n\\n\\n\\n\\n\\n\\n\\n\\n\\n\\n\\n...</td>\n",
       "    </tr>\n",
       "    <tr>\n",
       "      <th>3</th>\n",
       "      <td>Talk to the People of President Rodrigo Roa Du...</td>\n",
       "      <td>2020-09-21</td>\n",
       "      <td>\\n\\n\\n\\n\\n\\n\\n\\n\\n\\n\\n\\n\\n\\n\\n\\n\\n\\n\\n\\n\\n\\n\\n...</td>\n",
       "    </tr>\n",
       "    <tr>\n",
       "      <th>4</th>\n",
       "      <td>Talk to the People of President Rodrigo Roa Du...</td>\n",
       "      <td>2020-09-14</td>\n",
       "      <td>\\n\\n\\n\\n\\n\\n\\n\\n\\n\\n\\n\\n\\n\\n\\n\\n\\n\\n\\n\\n\\n\\n\\n...</td>\n",
       "    </tr>\n",
       "    <tr>\n",
       "      <th>5</th>\n",
       "      <td>Talk to the People of President Rodrigo Roa Du...</td>\n",
       "      <td>2020-09-07</td>\n",
       "      <td>\\n\\n\\n\\n\\n\\n\\n\\n\\n\\n\\n\\n\\n\\n\\n\\n\\n\\n\\n\\n\\n\\n\\n...</td>\n",
       "    </tr>\n",
       "    <tr>\n",
       "      <th>6</th>\n",
       "      <td>Statement of President Rodrigo Roa Duterte at ...</td>\n",
       "      <td>2020-09-02</td>\n",
       "      <td>\\n\\n\\n\\n\\n\\n\\n\\n\\n\\n\\n\\n\\n\\n\\n\\n\\n\\n\\n\\n\\n\\n\\n...</td>\n",
       "    </tr>\n",
       "    <tr>\n",
       "      <th>7</th>\n",
       "      <td>Speech of President Rodrigo Roa Duterte during...</td>\n",
       "      <td>2020-08-31</td>\n",
       "      <td>\\n\\n\\n\\n\\n\\n\\n\\n\\n\\n\\n\\n\\n\\n\\n\\n\\n\\n\\n\\n\\n\\n\\n...</td>\n",
       "    </tr>\n",
       "    <tr>\n",
       "      <th>8</th>\n",
       "      <td>Talk to the People of President Rodrigo Roa Du...</td>\n",
       "      <td>2020-08-31</td>\n",
       "      <td>\\n\\n\\n\\n\\n\\n\\n\\n\\n\\n\\n\\n\\n\\n\\n\\n\\n\\n\\n\\n\\n\\n\\n...</td>\n",
       "    </tr>\n",
       "    <tr>\n",
       "      <th>9</th>\n",
       "      <td>Talk to the People of   President Rodrigo Roa ...</td>\n",
       "      <td>2020-08-25</td>\n",
       "      <td>\\n\\n\\n\\n\\n\\n\\n\\n\\n\\n\\n\\n\\n\\n\\n\\n\\n\\n\\n\\n\\n\\n\\n...</td>\n",
       "    </tr>\n",
       "  </tbody>\n",
       "</table>\n",
       "</div>"
      ],
      "text/plain": [
       "                                               title       date  \\\n",
       "0  Talk to the People of President Rodrigo Roa Du... 2020-10-05   \n",
       "1  Talk to the People of President Rodrigo Roa Du... 2020-09-28   \n",
       "2  Statement of President Rodrigo Roa Duterte dur... 2020-09-22   \n",
       "3  Talk to the People of President Rodrigo Roa Du... 2020-09-21   \n",
       "4  Talk to the People of President Rodrigo Roa Du... 2020-09-14   \n",
       "5  Talk to the People of President Rodrigo Roa Du... 2020-09-07   \n",
       "6  Statement of President Rodrigo Roa Duterte at ... 2020-09-02   \n",
       "7  Speech of President Rodrigo Roa Duterte during... 2020-08-31   \n",
       "8  Talk to the People of President Rodrigo Roa Du... 2020-08-31   \n",
       "9  Talk to the People of   President Rodrigo Roa ... 2020-08-25   \n",
       "\n",
       "                                                text  \n",
       "0  \\n\\n\\n\\n\\n\\n\\n\\n\\n\\n\\n\\n\\n\\n\\n\\n\\n\\n\\n\\n\\n\\n\\n...  \n",
       "1  \\n\\n\\n\\n\\n\\n\\n\\n\\n\\n\\n\\n\\n\\n\\n\\n\\n\\n\\n\\n\\n\\n\\n...  \n",
       "2  \\n\\n\\n\\n\\n\\n\\n\\n\\n\\n\\n\\n\\n\\n\\n\\n\\n\\n\\n\\n\\n\\n\\n...  \n",
       "3  \\n\\n\\n\\n\\n\\n\\n\\n\\n\\n\\n\\n\\n\\n\\n\\n\\n\\n\\n\\n\\n\\n\\n...  \n",
       "4  \\n\\n\\n\\n\\n\\n\\n\\n\\n\\n\\n\\n\\n\\n\\n\\n\\n\\n\\n\\n\\n\\n\\n...  \n",
       "5  \\n\\n\\n\\n\\n\\n\\n\\n\\n\\n\\n\\n\\n\\n\\n\\n\\n\\n\\n\\n\\n\\n\\n...  \n",
       "6  \\n\\n\\n\\n\\n\\n\\n\\n\\n\\n\\n\\n\\n\\n\\n\\n\\n\\n\\n\\n\\n\\n\\n...  \n",
       "7  \\n\\n\\n\\n\\n\\n\\n\\n\\n\\n\\n\\n\\n\\n\\n\\n\\n\\n\\n\\n\\n\\n\\n...  \n",
       "8  \\n\\n\\n\\n\\n\\n\\n\\n\\n\\n\\n\\n\\n\\n\\n\\n\\n\\n\\n\\n\\n\\n\\n...  \n",
       "9  \\n\\n\\n\\n\\n\\n\\n\\n\\n\\n\\n\\n\\n\\n\\n\\n\\n\\n\\n\\n\\n\\n\\n...  "
      ]
     },
     "execution_count": 5,
     "metadata": {},
     "output_type": "execute_result"
    }
   ],
   "source": [
    "df['date'] = pd.to_datetime(df['date'], format='%B %d, %Y')\n",
    "df = df.sort_values('date', ascending=False).reset_index().drop('index', axis=1)\n",
    "df.head(10)"
   ]
  },
  {
   "cell_type": "code",
   "execution_count": 6,
   "metadata": {},
   "outputs": [
    {
     "name": "stdout",
     "output_type": "stream",
     "text": [
      "Speech of President Duterte during the mass oath taking of the newly elected officers of the Federation of Filipino-Chinese Chambers of Commerce and Industry, Inc. (FFCCCII)\n",
      " \n",
      "  \n",
      "  \n",
      "Ladies and gentlemen, I am very proud to administer your oath of office. \n",
      "You choose the venue and good evening ma’am, President Ramos and... \n",
      "  \n",
      "[oath-taking ceremony] \n",
      "  \n",
      "Maupo muna kayo sandali. I was told just to administer your oath and that’s \n",
      "it. Eh sabi ko, just --- tatlo ito, the mayors and governors and ito without \n",
      "speeches. \n",
      "  \n",
      "Sabi ko, look I did study foreign service, totoo ‘yan. Hindi dini-discredit. I \n",
      "took up diplomatic practice and procedure. So it go\n",
      "===============================\n",
      "d sabi ko sa \n",
      "iyo, I will protect you. I will protect not only Chinese. Everybody. Whether \n",
      "it's German or doing business dito. \n",
      "  \n",
      "Ayaw ko talaga ng kalokohan. Ayaw ko 'yang mag sige... And 'yung \n",
      "mayroon kayo diyan na historical na 'yang hingi niya, tell me para 'yung \n",
      "mga anak ninyo balang araw aabutin pa 'yan eh, hanggang 30 years 'yan \n",
      "siguro --- 65 years old. At least makonti --- ma-menos-menos ang \n",
      "corruption ng Pilipinas. \n",
      "  \n",
      "At kayo naman, kumportable na... Maski na kasi --- maski 10 pesos basta \n",
      "'yung pinapadaan sa ganun, masakit 'yan eh kasi pinagpaguran. \n",
      "  \n",
      "I know that for a worthy cause sa kapwa tao ninyo pwede kang magtapon \n",
      "ng isang milyon. Pero ‘pag hiningian ka ng singkwenta pesos tapos 'yung \n",
      "dala takot, nakaka-init ng ulo. \n",
      "  \n",
      "Now is your time. Now is the time for all lalo na kayong mga Chinese \n",
      "historical victims of corruption sa gobyerno. Ngayon na ninyo isabi 'yan para \n",
      "ma-menos-menosan natin lahat. \n",
      "  \n",
      "Maraming salamat po. [applause] \n",
      "\n",
      "\n",
      "\n",
      "  \n",
      "  \n",
      "\n",
      "--- END --- \n",
      "\t\n",
      "\n",
      "\n",
      "\n"
     ]
    }
   ],
   "source": [
    "# Example of speech; remove everything before the date\n",
    "entry = df.loc[150]\n",
    "sample = entry['text']\n",
    "index = sample.find(']')\n",
    "print(entry['title'])\n",
    "print(sample[index+1:1000])\n",
    "print('===============================')\n",
    "print(sample[-1000:])"
   ]
  },
  {
   "cell_type": "markdown",
   "metadata": {},
   "source": [
    "## Cleaning the Data"
   ]
  },
  {
   "cell_type": "code",
   "execution_count": 11,
   "metadata": {},
   "outputs": [],
   "source": [
    "def clean_data(text):\n",
    "    if not isinstance(text, float):\n",
    "        index_of_date = text.find(']')\n",
    "        text = text[index_of_date+1:]\n",
    "        text = text.lower()\n",
    "    #     I included the asterisk * to include swears\n",
    "        text = re.sub(r'([^A-Z a-z*\\'\\[\\]])|', '', text)\n",
    "\n",
    "    #     Not sure if I will still remove stopwords\n",
    "        text = ' '.join([word for word in text.split() if word not in stopwords])\n",
    "\n",
    "        text = text.replace('presidential news desk', '')\n",
    "        text = text.replace('pcoopnd', '')\n",
    "\n",
    "        text = ' '.join(text.split())\n",
    "    \n",
    "    return text"
   ]
  },
  {
   "cell_type": "code",
   "execution_count": 12,
   "metadata": {},
   "outputs": [],
   "source": [
    "df['clean_text'] = df['text'].apply(clean_data)"
   ]
  },
  {
   "cell_type": "code",
   "execution_count": 13,
   "metadata": {},
   "outputs": [
    {
     "data": {
      "text/plain": [
       "'mga kapatid kong pilipino nandito harap ninyo reklamo hindi ngayon kayo akin kung magreklamo inyo una itong quarantine natin enhanced ano really intended protect guy kung ayaw mo maprotektahan ka reason behind kung bakit ka pinipigilan para kapwa tao mo sense kung ayaw talaga ninyong maniwala nagmamatigas ulo ninyo kulang disiplina aba eh talagang hindi mahihinto every time magdidikit kayo eh nakita nagsasabong kayo painom pa know im calling local government units kindly follow direction guidelines hindi nga namimilit hindi nga martial law eh even martial law put people prison walang rason martial law wala namang virus diyan wala namang'"
      ]
     },
     "execution_count": 13,
     "metadata": {},
     "output_type": "execute_result"
    }
   ],
   "source": [
    "' '.join(df.loc[3]['clean_text'].split()[:100])"
   ]
  },
  {
   "cell_type": "markdown",
   "metadata": {},
   "source": [
    "## Saving cleaned text as CSV"
   ]
  },
  {
   "cell_type": "code",
   "execution_count": 17,
   "metadata": {},
   "outputs": [],
   "source": [
    "# Remove NaN values\n",
    "df = df.dropna()"
   ]
  },
  {
   "cell_type": "code",
   "execution_count": 18,
   "metadata": {},
   "outputs": [
    {
     "data": {
      "text/html": [
       "<div>\n",
       "<style scoped>\n",
       "    .dataframe tbody tr th:only-of-type {\n",
       "        vertical-align: middle;\n",
       "    }\n",
       "\n",
       "    .dataframe tbody tr th {\n",
       "        vertical-align: top;\n",
       "    }\n",
       "\n",
       "    .dataframe thead th {\n",
       "        text-align: right;\n",
       "    }\n",
       "</style>\n",
       "<table border=\"1\" class=\"dataframe\">\n",
       "  <thead>\n",
       "    <tr style=\"text-align: right;\">\n",
       "      <th></th>\n",
       "      <th>title</th>\n",
       "      <th>date</th>\n",
       "      <th>text</th>\n",
       "      <th>clean_text</th>\n",
       "    </tr>\n",
       "  </thead>\n",
       "  <tbody>\n",
       "    <tr>\n",
       "      <td>0</td>\n",
       "      <td>Talk to the People of President Rodrigo Roa Du...</td>\n",
       "      <td>2020-05-04</td>\n",
       "      <td>\\n\\n\\n\\n\\n\\n\\n\\n\\n\\n\\n\\n\\n\\n\\n\\n\\n\\n\\n\\n\\n\\n\\n...</td>\n",
       "      <td>president duterte reduced changed way life eve...</td>\n",
       "    </tr>\n",
       "    <tr>\n",
       "      <td>1</td>\n",
       "      <td>Talk to the People of President Rodrigo Roa Du...</td>\n",
       "      <td>2020-04-27</td>\n",
       "      <td>\\n\\n\\n\\n\\n\\n\\n\\n\\n\\n\\n\\n\\n\\n\\n\\n\\n\\n\\n\\n\\n\\n\\n...</td>\n",
       "      <td>dost secretary fortunato dela pea susunod kahi...</td>\n",
       "    </tr>\n",
       "    <tr>\n",
       "      <td>2</td>\n",
       "      <td>Talk to the People of President Rodrigo Roa Du...</td>\n",
       "      <td>2020-04-24</td>\n",
       "      <td>\\n\\n\\n\\n\\n\\n\\n\\n\\n\\n\\n\\n\\n\\n\\n\\n\\n\\n\\n\\n\\n\\n\\n...</td>\n",
       "      <td>presidential spokesperson harry roque magandan...</td>\n",
       "    </tr>\n",
       "    <tr>\n",
       "      <td>3</td>\n",
       "      <td>Talk to the People of President Rodrigo Roa Du...</td>\n",
       "      <td>2020-04-16</td>\n",
       "      <td>\\n\\n\\n\\n\\n\\n\\n\\n\\n\\n\\n\\n\\n\\n\\n\\n\\n\\n\\n\\n\\n\\n\\n...</td>\n",
       "      <td>mga kapatid kong pilipino nandito harap ninyo ...</td>\n",
       "    </tr>\n",
       "    <tr>\n",
       "      <td>4</td>\n",
       "      <td>Intervention of President Rodrigo Roa Duterte ...</td>\n",
       "      <td>2020-04-14</td>\n",
       "      <td>\\n\\n\\n\\n\\n\\n\\n\\n\\n\\n\\n\\n\\n\\n\\n\\n\\n\\n\\n\\n\\n\\n\\n...</td>\n",
       "      <td>thank mr chair majesty excellencies welcome le...</td>\n",
       "    </tr>\n",
       "  </tbody>\n",
       "</table>\n",
       "</div>"
      ],
      "text/plain": [
       "                                               title       date  \\\n",
       "0  Talk to the People of President Rodrigo Roa Du... 2020-05-04   \n",
       "1  Talk to the People of President Rodrigo Roa Du... 2020-04-27   \n",
       "2  Talk to the People of President Rodrigo Roa Du... 2020-04-24   \n",
       "3  Talk to the People of President Rodrigo Roa Du... 2020-04-16   \n",
       "4  Intervention of President Rodrigo Roa Duterte ... 2020-04-14   \n",
       "\n",
       "                                                text  \\\n",
       "0  \\n\\n\\n\\n\\n\\n\\n\\n\\n\\n\\n\\n\\n\\n\\n\\n\\n\\n\\n\\n\\n\\n\\n...   \n",
       "1  \\n\\n\\n\\n\\n\\n\\n\\n\\n\\n\\n\\n\\n\\n\\n\\n\\n\\n\\n\\n\\n\\n\\n...   \n",
       "2  \\n\\n\\n\\n\\n\\n\\n\\n\\n\\n\\n\\n\\n\\n\\n\\n\\n\\n\\n\\n\\n\\n\\n...   \n",
       "3  \\n\\n\\n\\n\\n\\n\\n\\n\\n\\n\\n\\n\\n\\n\\n\\n\\n\\n\\n\\n\\n\\n\\n...   \n",
       "4  \\n\\n\\n\\n\\n\\n\\n\\n\\n\\n\\n\\n\\n\\n\\n\\n\\n\\n\\n\\n\\n\\n\\n...   \n",
       "\n",
       "                                          clean_text  \n",
       "0  president duterte reduced changed way life eve...  \n",
       "1  dost secretary fortunato dela pea susunod kahi...  \n",
       "2  presidential spokesperson harry roque magandan...  \n",
       "3  mga kapatid kong pilipino nandito harap ninyo ...  \n",
       "4  thank mr chair majesty excellencies welcome le...  "
      ]
     },
     "execution_count": 18,
     "metadata": {},
     "output_type": "execute_result"
    }
   ],
   "source": [
    "df.to_csv('data/{}_clean.csv'.format(file_name))\n",
    "df.head()"
   ]
  },
  {
   "cell_type": "code",
   "execution_count": null,
   "metadata": {},
   "outputs": [],
   "source": []
  }
 ],
 "metadata": {
  "kernelspec": {
   "display_name": "dutertespeech",
   "language": "python",
   "name": "dutertespeech"
  },
  "language_info": {
   "codemirror_mode": {
    "name": "ipython",
    "version": 3
   },
   "file_extension": ".py",
   "mimetype": "text/x-python",
   "name": "python",
   "nbconvert_exporter": "python",
   "pygments_lexer": "ipython3",
   "version": "3.8.5"
  }
 },
 "nbformat": 4,
 "nbformat_minor": 4
}
