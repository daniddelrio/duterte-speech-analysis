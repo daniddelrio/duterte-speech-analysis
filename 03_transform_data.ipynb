{
 "cells": [
  {
   "cell_type": "code",
   "execution_count": 2,
   "metadata": {
    "id": "yutDjZ96BLzA"
   },
   "outputs": [],
   "source": [
    "import pandas as pd\n",
    "import numpy as np\n",
    "import seaborn as sns"
   ]
  },
  {
   "cell_type": "code",
   "execution_count": 3,
   "metadata": {
    "colab": {
     "base_uri": "https://localhost:8080/",
     "height": 204
    },
    "id": "JHCOf0nsBePB",
    "outputId": "d4ab2d1f-3bfc-458e-a9e4-3615d91eeb67"
   },
   "outputs": [
    {
     "data": {
      "text/html": [
       "<div>\n",
       "<style scoped>\n",
       "    .dataframe tbody tr th:only-of-type {\n",
       "        vertical-align: middle;\n",
       "    }\n",
       "\n",
       "    .dataframe tbody tr th {\n",
       "        vertical-align: top;\n",
       "    }\n",
       "\n",
       "    .dataframe thead th {\n",
       "        text-align: right;\n",
       "    }\n",
       "</style>\n",
       "<table border=\"1\" class=\"dataframe\">\n",
       "  <thead>\n",
       "    <tr style=\"text-align: right;\">\n",
       "      <th></th>\n",
       "      <th>text</th>\n",
       "      <th>clean_text</th>\n",
       "    </tr>\n",
       "  </thead>\n",
       "  <tbody>\n",
       "    <tr>\n",
       "      <th>0</th>\n",
       "      <td>PRESIDENT RODRIGO ROA DUTERTE: Good day, my co...</td>\n",
       "      <td>good day my countrymen</td>\n",
       "    </tr>\n",
       "    <tr>\n",
       "      <th>1</th>\n",
       "      <td>We are here gathered to render a report weekly...</td>\n",
       "      <td>we are here gathered to render a report weekly...</td>\n",
       "    </tr>\n",
       "    <tr>\n",
       "      <th>2</th>\n",
       "      <td>Kaya kami nandito at marami namang haka-haka p...</td>\n",
       "      <td>kaya kami nandito at marami namang hakahaka pa...</td>\n",
       "    </tr>\n",
       "    <tr>\n",
       "      <th>3</th>\n",
       "      <td>Gawain mo na, masama ka pa rin.</td>\n",
       "      <td>gawain mo na masama ka pa rin</td>\n",
       "    </tr>\n",
       "    <tr>\n",
       "      <th>4</th>\n",
       "      <td>Kung hindi mo gawin, mas lalo kang masama.</td>\n",
       "      <td>kung hindi mo gawin mas lalo kang masama</td>\n",
       "    </tr>\n",
       "  </tbody>\n",
       "</table>\n",
       "</div>"
      ],
      "text/plain": [
       "                                                text  \\\n",
       "0  PRESIDENT RODRIGO ROA DUTERTE: Good day, my co...   \n",
       "1  We are here gathered to render a report weekly...   \n",
       "2  Kaya kami nandito at marami namang haka-haka p...   \n",
       "3                    Gawain mo na, masama ka pa rin.   \n",
       "4         Kung hindi mo gawin, mas lalo kang masama.   \n",
       "\n",
       "                                          clean_text  \n",
       "0                             good day my countrymen  \n",
       "1  we are here gathered to render a report weekly...  \n",
       "2  kaya kami nandito at marami namang hakahaka pa...  \n",
       "3                      gawain mo na masama ka pa rin  \n",
       "4           kung hindi mo gawin mas lalo kang masama  "
      ]
     },
     "execution_count": 3,
     "metadata": {},
     "output_type": "execute_result"
    }
   ],
   "source": [
    "df_sentences = pd.read_csv('data/tika_transcript_sentences.csv', index_col=0)\n",
    "df_speech = pd.read_csv('data/tika_transcript_clean.csv', index_col=0)\n",
    "df_sentences.head()"
   ]
  },
  {
   "cell_type": "code",
   "execution_count": 4,
   "metadata": {
    "colab": {
     "base_uri": "https://localhost:8080/",
     "height": 204
    },
    "id": "6JcDTNILewWB",
    "outputId": "0dfd6dbc-9828-4848-82ce-86e1e00b8042"
   },
   "outputs": [
    {
     "data": {
      "text/html": [
       "<div>\n",
       "<style scoped>\n",
       "    .dataframe tbody tr th:only-of-type {\n",
       "        vertical-align: middle;\n",
       "    }\n",
       "\n",
       "    .dataframe tbody tr th {\n",
       "        vertical-align: top;\n",
       "    }\n",
       "\n",
       "    .dataframe thead th {\n",
       "        text-align: right;\n",
       "    }\n",
       "</style>\n",
       "<table border=\"1\" class=\"dataframe\">\n",
       "  <thead>\n",
       "    <tr style=\"text-align: right;\">\n",
       "      <th></th>\n",
       "      <th>text</th>\n",
       "      <th>clean_text</th>\n",
       "    </tr>\n",
       "  </thead>\n",
       "  <tbody>\n",
       "    <tr>\n",
       "      <th>0</th>\n",
       "      <td>PRESIDENT RODRIGO ROA DUTERTE: Good day, my co...</td>\n",
       "      <td>good day my countrymen</td>\n",
       "    </tr>\n",
       "    <tr>\n",
       "      <th>1</th>\n",
       "      <td>We are here gathered to render a report weekly...</td>\n",
       "      <td>we are here gathered to render a report weekly...</td>\n",
       "    </tr>\n",
       "    <tr>\n",
       "      <th>2</th>\n",
       "      <td>Kaya kami nandito at marami namang haka-haka p...</td>\n",
       "      <td>kaya kami nandito at marami namang hakahaka pa...</td>\n",
       "    </tr>\n",
       "    <tr>\n",
       "      <th>3</th>\n",
       "      <td>Gawain mo na, masama ka pa rin.</td>\n",
       "      <td>gawain mo na masama ka pa rin</td>\n",
       "    </tr>\n",
       "    <tr>\n",
       "      <th>4</th>\n",
       "      <td>Kung hindi mo gawin, mas lalo kang masama.</td>\n",
       "      <td>kung hindi mo gawin mas lalo kang masama</td>\n",
       "    </tr>\n",
       "  </tbody>\n",
       "</table>\n",
       "</div>"
      ],
      "text/plain": [
       "                                                text  \\\n",
       "0  PRESIDENT RODRIGO ROA DUTERTE: Good day, my co...   \n",
       "1  We are here gathered to render a report weekly...   \n",
       "2  Kaya kami nandito at marami namang haka-haka p...   \n",
       "3                    Gawain mo na, masama ka pa rin.   \n",
       "4         Kung hindi mo gawin, mas lalo kang masama.   \n",
       "\n",
       "                                          clean_text  \n",
       "0                             good day my countrymen  \n",
       "1  we are here gathered to render a report weekly...  \n",
       "2  kaya kami nandito at marami namang hakahaka pa...  \n",
       "3                      gawain mo na masama ka pa rin  \n",
       "4           kung hindi mo gawin mas lalo kang masama  "
      ]
     },
     "execution_count": 4,
     "metadata": {},
     "output_type": "execute_result"
    }
   ],
   "source": [
    "df_sentences = df_sentences.dropna()\n",
    "df_sentences.head()"
   ]
  },
  {
   "cell_type": "code",
   "execution_count": 33,
   "metadata": {},
   "outputs": [
    {
     "data": {
      "text/plain": [
       "(2996, 3)"
      ]
     },
     "execution_count": 33,
     "metadata": {},
     "output_type": "execute_result"
    }
   ],
   "source": [
    "MAX_NUM = 3000\n",
    "df_sentences = df_sentences.loc[:MAX_NUM]\n",
    "df_sentences.shape"
   ]
  },
  {
   "cell_type": "markdown",
   "metadata": {
    "id": "p17O2WHUJ8x8"
   },
   "source": [
    "## Tokenize Sentences"
   ]
  },
  {
   "cell_type": "code",
   "execution_count": 34,
   "metadata": {
    "id": "4LW5NDL0CaA3"
   },
   "outputs": [],
   "source": [
    "from keras.preprocessing.text import Tokenizer\n",
    "\n",
    "def tokenize(sentences):\n",
    "  # integer encode sequences of words\n",
    "  tokenizer = Tokenizer()\n",
    "  tokenizer.fit_on_texts(sentences)\n",
    "  sequences = tokenizer.texts_to_sequences(sentences)\n",
    "\n",
    "  return tokenizer, sequences"
   ]
  },
  {
   "cell_type": "code",
   "execution_count": 35,
   "metadata": {
    "colab": {
     "base_uri": "https://localhost:8080/",
     "height": 296
    },
    "id": "yuLIlA09EvoM",
    "outputId": "eb0f6b80-87eb-408b-ac98-4f0367b81e81"
   },
   "outputs": [
    {
     "data": {
      "text/plain": [
       "<matplotlib.axes._subplots.AxesSubplot at 0x150513550>"
      ]
     },
     "execution_count": 35,
     "metadata": {},
     "output_type": "execute_result"
    },
    {
     "data": {
      "image/png": "[encoded data removed]",
      "text/plain": [
       "<Figure size 432x288 with 1 Axes>"
      ]
     },
     "metadata": {
      "needs_background": "light"
     },
     "output_type": "display_data"
    }
   ],
   "source": [
    "df_sentences['length'] = df_sentences['clean_text'].apply(lambda x: len(x.split()))\n",
    "sns.violinplot(x=df_sentences['length'])"
   ]
  },
  {
   "cell_type": "code",
   "execution_count": 36,
   "metadata": {
    "id": "JJyYseTdD2iw"
   },
   "outputs": [],
   "source": [
    "def get_max(df_sentences):\n",
    "  sentences_list = df_sentences['clean_text'].astype(str).values.tolist()\n",
    "  tokenizer, sequences = tokenize(sentences_list)\n",
    "  max_index = np.argmax([len(x) for x in sequences])\n",
    "  # Remove the row with 1k+ words\n",
    "  return max_index, tokenizer, sequences"
   ]
  },
  {
   "cell_type": "code",
   "execution_count": 37,
   "metadata": {
    "colab": {
     "base_uri": "https://localhost:8080/",
     "height": 35
    },
    "id": "3L8F0qF7G5MS",
    "outputId": "b74f3e36-12dc-4b26-bf57-56b1915f22a3"
   },
   "outputs": [
    {
     "data": {
      "text/plain": [
       "'Maghintay lang kayo, nandiyan na.'"
      ]
     },
     "execution_count": 37,
     "metadata": {},
     "output_type": "execute_result"
    }
   ],
   "source": [
    "# Keep running this until the longest sentence makes sense\n",
    "max_index, tokenizer, sequences = get_max(df_sentences)\n",
    "long_text = df_sentences.loc[max_index]['text']\n",
    "df_sentences = df_sentences.drop(max_index)\n",
    "long_text"
   ]
  },
  {
   "cell_type": "code",
   "execution_count": 38,
   "metadata": {
    "colab": {
     "base_uri": "https://localhost:8080/"
    },
    "id": "aWIqOe72Cvyt",
    "outputId": "36699f55-75a1-4d23-e45c-8daf8569ef1e"
   },
   "outputs": [
    {
     "data": {
      "text/plain": [
       "array([[ 126,  233,   86, 2796,    0,    0,    0,    0,    0],\n",
       "       [  17,   26,  177, 1364,    4, 1829,   12,  139, 1102],\n",
       "       [  87,  117,  584,   16,  205,  234, 1833, 1834,  285],\n",
       "       [ 657,   36,    2,  766,   54,   62,   95,    0,    0],\n",
       "       [  28,   23,   36,  656,  161,  246,  542,  766,    0],\n",
       "       [ 658,  338,   64,   31,   12,  309,    6, 1835,    1],\n",
       "       [  56, 1372, 1104,   97,  197, 2802, 1105, 2803,    0],\n",
       "       [  51,   37,  234,  586,  310,   16,   37,  234, 2804],\n",
       "       [   7,   35, 2805,  660,   56,   27,  143, 2806,   24],\n",
       "       [   8,  587,    3,  157,   15,   18,  423,   57,   15]],\n",
       "      dtype=int32)"
      ]
     },
     "execution_count": 38,
     "metadata": {},
     "output_type": "execute_result"
    }
   ],
   "source": [
    "from tensorflow.keras.preprocessing.sequence import pad_sequences\n",
    "\n",
    "max_length = int(df_sentences['length'].mean()-5)\n",
    "sequences = pad_sequences(sequences,padding='post',truncating='post', maxlen=max_length)\n",
    "sequences[:10]"
   ]
  },
  {
   "cell_type": "code",
   "execution_count": 39,
   "metadata": {
    "id": "bbkY0N7jDVC4"
   },
   "outputs": [],
   "source": [
    "vocab_size = len(tokenizer.word_index) + 1"
   ]
  },
  {
   "cell_type": "code",
   "execution_count": 42,
   "metadata": {
    "id": "Y7n3kGuSKU7H"
   },
   "outputs": [
    {
     "data": {
      "text/plain": [
       "(26946, 26)"
      ]
     },
     "execution_count": 42,
     "metadata": {},
     "output_type": "execute_result"
    }
   ],
   "source": [
    "from keras.utils import to_categorical\n",
    "import itertools\n",
    "\n",
    "# separate into input and output\n",
    "NUM_SENTENCES = 2\n",
    "X = list()\n",
    "y = list()\n",
    "for i in range(NUM_SENTENCES, len(sequences)):\n",
    "  curr_sequence = sequences[i]\n",
    "  for j in range(max_length):\n",
    "    prev_words = curr_sequence[:j]\n",
    "    input = np.concatenate(sequences[i-NUM_SENTENCES:i])\n",
    "    input = np.append(input, prev_words)\n",
    "    X.append(input)\n",
    "    y.append(curr_sequence[j])\n",
    "\n",
    "X = np.array(pad_sequences(X,padding='pre',truncating='post', maxlen=max_length*(NUM_SENTENCES+1)-1))\n",
    "y = to_categorical(y, num_classes=vocab_size)\n",
    "# y = (np.arange(y.max()) == y[...,None]-1).astype(int)\n",
    "seq_length = X.shape[1]\n",
    "X.shape"
   ]
  },
  {
   "cell_type": "code",
   "execution_count": 43,
   "metadata": {},
   "outputs": [
    {
     "data": {
      "text/plain": [
       "(26946, 6010)"
      ]
     },
     "execution_count": 43,
     "metadata": {},
     "output_type": "execute_result"
    }
   ],
   "source": [
    "y.shape"
   ]
  },
  {
   "cell_type": "markdown",
   "metadata": {
    "id": "YqY3K0liTNAD"
   },
   "source": [
    "## Save Sequence"
   ]
  },
  {
   "cell_type": "code",
   "execution_count": 44,
   "metadata": {
    "id": "dzG8jBe5d8fa"
   },
   "outputs": [],
   "source": [
    "np.save('data/X_sequences.npy', X)"
   ]
  },
  {
   "cell_type": "code",
   "execution_count": 48,
   "metadata": {},
   "outputs": [],
   "source": [
    "np.save('data/y_sequences.npy', y)"
   ]
  },
  {
   "cell_type": "code",
   "execution_count": 47,
   "metadata": {},
   "outputs": [],
   "source": [
    "import pickle\n",
    "\n",
    "with open('tokenizer.pickle', 'wb') as tokenizer_file:\n",
    "    pickle.dump(tokenizer, tokenizer_file)"
   ]
  },
  {
   "cell_type": "code",
   "execution_count": null,
   "metadata": {},
   "outputs": [],
   "source": []
  }
 ],
 "metadata": {
  "colab": {
   "name": "04_predict_text.ipynb",
   "provenance": []
  },
  "kernelspec": {
   "display_name": "dutertespeech",
   "language": "python",
   "name": "dutertespeech"
  },
  "language_info": {
   "codemirror_mode": {
    "name": "ipython",
    "version": 3
   },
   "file_extension": ".py",
   "mimetype": "text/x-python",
   "name": "python",
   "nbconvert_exporter": "python",
   "pygments_lexer": "ipython3",
   "version": "3.8.5"
  }
 },
 "nbformat": 4,
 "nbformat_minor": 4
}
