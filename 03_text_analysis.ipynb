{
 "cells": [
  {
   "cell_type": "code",
   "execution_count": 37,
   "metadata": {},
   "outputs": [],
   "source": [
    "import pandas as pd\n",
    "import numpy as np\n",
    "from sklearn.feature_extraction.text import CountVectorizer, TfidfVectorizer\n",
    "import seaborn as sns\n",
    "from matplotlib import pyplot as plt\n",
    "from matplotlib import style\n",
    "from wordcloud import WordCloud\n",
    "import pyLDAvis, pyLDAvis.sklearn\n",
    "from sklearn.manifold import TSNE\n",
    "from sklearn.cluster import KMeans\n",
    "from sklearn.decomposition import LatentDirichletAllocation, PCA\n",
    "pyLDAvis.enable_notebook()\n",
    "style.use('fivethirtyeight')\n",
    "import re\n",
    "import seaborn as sns"
   ]
  },
  {
   "cell_type": "code",
   "execution_count": 2,
   "metadata": {},
   "outputs": [
    {
     "data": {
      "text/html": [
       "<div>\n",
       "<style scoped>\n",
       "    .dataframe tbody tr th:only-of-type {\n",
       "        vertical-align: middle;\n",
       "    }\n",
       "\n",
       "    .dataframe tbody tr th {\n",
       "        vertical-align: top;\n",
       "    }\n",
       "\n",
       "    .dataframe thead th {\n",
       "        text-align: right;\n",
       "    }\n",
       "</style>\n",
       "<table border=\"1\" class=\"dataframe\">\n",
       "  <thead>\n",
       "    <tr style=\"text-align: right;\">\n",
       "      <th></th>\n",
       "      <th>title</th>\n",
       "      <th>date</th>\n",
       "      <th>text</th>\n",
       "      <th>clean_text</th>\n",
       "    </tr>\n",
       "  </thead>\n",
       "  <tbody>\n",
       "    <tr>\n",
       "      <td>0</td>\n",
       "      <td>Talk to the People of President Rodrigo Roa Du...</td>\n",
       "      <td>2020-05-04</td>\n",
       "      <td>\\n\\n\\n\\n\\n\\n\\n\\n\\n\\n\\n\\n\\n\\n\\n\\n\\n\\n\\n\\n\\n\\n\\n...</td>\n",
       "      <td>president duterte reduced changed way life eve...</td>\n",
       "    </tr>\n",
       "    <tr>\n",
       "      <td>1</td>\n",
       "      <td>Talk to the People of President Rodrigo Roa Du...</td>\n",
       "      <td>2020-04-27</td>\n",
       "      <td>\\n\\n\\n\\n\\n\\n\\n\\n\\n\\n\\n\\n\\n\\n\\n\\n\\n\\n\\n\\n\\n\\n\\n...</td>\n",
       "      <td>dost secretary fortunato dela pea susunod kahi...</td>\n",
       "    </tr>\n",
       "    <tr>\n",
       "      <td>2</td>\n",
       "      <td>Talk to the People of President Rodrigo Roa Du...</td>\n",
       "      <td>2020-04-24</td>\n",
       "      <td>\\n\\n\\n\\n\\n\\n\\n\\n\\n\\n\\n\\n\\n\\n\\n\\n\\n\\n\\n\\n\\n\\n\\n...</td>\n",
       "      <td>presidential spokesperson harry roque magandan...</td>\n",
       "    </tr>\n",
       "    <tr>\n",
       "      <td>3</td>\n",
       "      <td>Talk to the People of President Rodrigo Roa Du...</td>\n",
       "      <td>2020-04-16</td>\n",
       "      <td>\\n\\n\\n\\n\\n\\n\\n\\n\\n\\n\\n\\n\\n\\n\\n\\n\\n\\n\\n\\n\\n\\n\\n...</td>\n",
       "      <td>mga kapatid kong pilipino nandito harap ninyo ...</td>\n",
       "    </tr>\n",
       "    <tr>\n",
       "      <td>4</td>\n",
       "      <td>Intervention of President Rodrigo Roa Duterte ...</td>\n",
       "      <td>2020-04-14</td>\n",
       "      <td>\\n\\n\\n\\n\\n\\n\\n\\n\\n\\n\\n\\n\\n\\n\\n\\n\\n\\n\\n\\n\\n\\n\\n...</td>\n",
       "      <td>thank mr chair majesty excellencies welcome le...</td>\n",
       "    </tr>\n",
       "  </tbody>\n",
       "</table>\n",
       "</div>"
      ],
      "text/plain": [
       "                                               title        date  \\\n",
       "0  Talk to the People of President Rodrigo Roa Du...  2020-05-04   \n",
       "1  Talk to the People of President Rodrigo Roa Du...  2020-04-27   \n",
       "2  Talk to the People of President Rodrigo Roa Du...  2020-04-24   \n",
       "3  Talk to the People of President Rodrigo Roa Du...  2020-04-16   \n",
       "4  Intervention of President Rodrigo Roa Duterte ...  2020-04-14   \n",
       "\n",
       "                                                text  \\\n",
       "0  \\n\\n\\n\\n\\n\\n\\n\\n\\n\\n\\n\\n\\n\\n\\n\\n\\n\\n\\n\\n\\n\\n\\n...   \n",
       "1  \\n\\n\\n\\n\\n\\n\\n\\n\\n\\n\\n\\n\\n\\n\\n\\n\\n\\n\\n\\n\\n\\n\\n...   \n",
       "2  \\n\\n\\n\\n\\n\\n\\n\\n\\n\\n\\n\\n\\n\\n\\n\\n\\n\\n\\n\\n\\n\\n\\n...   \n",
       "3  \\n\\n\\n\\n\\n\\n\\n\\n\\n\\n\\n\\n\\n\\n\\n\\n\\n\\n\\n\\n\\n\\n\\n...   \n",
       "4  \\n\\n\\n\\n\\n\\n\\n\\n\\n\\n\\n\\n\\n\\n\\n\\n\\n\\n\\n\\n\\n\\n\\n...   \n",
       "\n",
       "                                          clean_text  \n",
       "0  president duterte reduced changed way life eve...  \n",
       "1  dost secretary fortunato dela pea susunod kahi...  \n",
       "2  presidential spokesperson harry roque magandan...  \n",
       "3  mga kapatid kong pilipino nandito harap ninyo ...  \n",
       "4  thank mr chair majesty excellencies welcome le...  "
      ]
     },
     "execution_count": 2,
     "metadata": {},
     "output_type": "execute_result"
    }
   ],
   "source": [
    "df = pd.read_csv('data/tika_transcript_clean.csv', index_col=0)\n",
    "df.head()"
   ]
  },
  {
   "cell_type": "markdown",
   "metadata": {},
   "source": [
    "# Plotting Speech Frequency"
   ]
  },
  {
   "cell_type": "code",
   "execution_count": 3,
   "metadata": {},
   "outputs": [
    {
     "data": {
      "text/html": [
       "<div>\n",
       "<style scoped>\n",
       "    .dataframe tbody tr th:only-of-type {\n",
       "        vertical-align: middle;\n",
       "    }\n",
       "\n",
       "    .dataframe tbody tr th {\n",
       "        vertical-align: top;\n",
       "    }\n",
       "\n",
       "    .dataframe thead th {\n",
       "        text-align: right;\n",
       "    }\n",
       "</style>\n",
       "<table border=\"1\" class=\"dataframe\">\n",
       "  <thead>\n",
       "    <tr style=\"text-align: right;\">\n",
       "      <th></th>\n",
       "      <th>title</th>\n",
       "      <th>date</th>\n",
       "      <th>text</th>\n",
       "      <th>clean_text</th>\n",
       "      <th>date_diff</th>\n",
       "    </tr>\n",
       "  </thead>\n",
       "  <tbody>\n",
       "    <tr>\n",
       "      <td>0</td>\n",
       "      <td>Speech of President Rodrigo Roa Duterte during...</td>\n",
       "      <td>2018-03-18</td>\n",
       "      <td>\\n\\n\\n\\n\\n\\n\\n\\n\\n\\n\\n\\n\\n\\n\\n\\n\\n\\n\\n\\n\\n\\n\\n...</td>\n",
       "      <td>kindly sit thank courtesy troop commander coul...</td>\n",
       "      <td>NaN</td>\n",
       "    </tr>\n",
       "    <tr>\n",
       "      <td>1</td>\n",
       "      <td>Speech of President Rodrigo Roa Duterte during...</td>\n",
       "      <td>2018-03-20</td>\n",
       "      <td>\\n\\n\\n\\n\\n\\n\\n\\n\\n\\n\\n\\n\\n\\n\\n\\n\\n\\n\\n\\n\\n\\n\\n...</td>\n",
       "      <td>kindly sit salamat ho kortesiya ninyo troop co...</td>\n",
       "      <td>2.0</td>\n",
       "    </tr>\n",
       "    <tr>\n",
       "      <td>2</td>\n",
       "      <td>Speech of President Rodrigo Roa Duterte during...</td>\n",
       "      <td>2018-03-20</td>\n",
       "      <td>\\n\\n\\n\\n\\n\\n\\n\\n\\n\\n\\n\\n\\n\\n\\n\\n\\n\\n\\n\\n\\n\\n\\n...</td>\n",
       "      <td>kindly sit thank courtesy ladies gentlemen usu...</td>\n",
       "      <td>0.0</td>\n",
       "    </tr>\n",
       "    <tr>\n",
       "      <td>3</td>\n",
       "      <td>Speech of President Rodrigo Roa Duterte during...</td>\n",
       "      <td>2018-03-21</td>\n",
       "      <td>\\n\\n\\n\\n\\n\\n\\n\\n\\n\\n\\n\\n\\n\\n\\n\\n\\n\\n\\n\\n\\n\\n\\n...</td>\n",
       "      <td>kindly sit thank courtesy troop commander coul...</td>\n",
       "      <td>1.0</td>\n",
       "    </tr>\n",
       "    <tr>\n",
       "      <td>4</td>\n",
       "      <td>Speech of President Rodrigo Roa Duterte during...</td>\n",
       "      <td>2018-03-21</td>\n",
       "      <td>\\n\\n\\n\\n\\n\\n\\n\\n\\n\\n\\n\\n\\n\\n\\n\\n\\n\\n\\n\\n\\n\\n\\n...</td>\n",
       "      <td>duterte duterte hinanap kayo noong election ni...</td>\n",
       "      <td>0.0</td>\n",
       "    </tr>\n",
       "    <tr>\n",
       "      <td>5</td>\n",
       "      <td>Speech of President Rodrigo Roa Duterte during...</td>\n",
       "      <td>2018-03-23</td>\n",
       "      <td>\\n\\n\\n\\n\\n\\n\\n\\n\\n\\n\\n\\n\\n\\n\\n\\n\\n\\n\\n\\n\\n\\n\\n...</td>\n",
       "      <td>salamat panglingkod mo kanang una tanan kinaha...</td>\n",
       "      <td>2.0</td>\n",
       "    </tr>\n",
       "    <tr>\n",
       "      <td>6</td>\n",
       "      <td>Speech Of President Rodrigo Roa Duterte during...</td>\n",
       "      <td>2018-03-26</td>\n",
       "      <td>\\n\\n\\n\\n\\n\\n\\n\\n\\n\\n\\n\\n\\n\\n\\n\\n\\n\\n\\n\\n\\n\\n\\n...</td>\n",
       "      <td>thank courtesy kindly sit prepared speech two ...</td>\n",
       "      <td>3.0</td>\n",
       "    </tr>\n",
       "    <tr>\n",
       "      <td>7</td>\n",
       "      <td>Speech of President Rodrigo Roa Duterte during...</td>\n",
       "      <td>2018-04-02</td>\n",
       "      <td>\\n\\n\\n\\n\\n\\n\\n\\n\\n\\n\\n\\n\\n\\n\\n\\n\\n\\n\\n\\n\\n\\n\\n...</td>\n",
       "      <td>kindly sit salamat courtesy ninyo [bakit dumid...</td>\n",
       "      <td>7.0</td>\n",
       "    </tr>\n",
       "  </tbody>\n",
       "</table>\n",
       "</div>"
      ],
      "text/plain": [
       "                                               title       date  \\\n",
       "0  Speech of President Rodrigo Roa Duterte during... 2018-03-18   \n",
       "1  Speech of President Rodrigo Roa Duterte during... 2018-03-20   \n",
       "2  Speech of President Rodrigo Roa Duterte during... 2018-03-20   \n",
       "3  Speech of President Rodrigo Roa Duterte during... 2018-03-21   \n",
       "4  Speech of President Rodrigo Roa Duterte during... 2018-03-21   \n",
       "5  Speech of President Rodrigo Roa Duterte during... 2018-03-23   \n",
       "6  Speech Of President Rodrigo Roa Duterte during... 2018-03-26   \n",
       "7  Speech of President Rodrigo Roa Duterte during... 2018-04-02   \n",
       "\n",
       "                                                text  \\\n",
       "0  \\n\\n\\n\\n\\n\\n\\n\\n\\n\\n\\n\\n\\n\\n\\n\\n\\n\\n\\n\\n\\n\\n\\n...   \n",
       "1  \\n\\n\\n\\n\\n\\n\\n\\n\\n\\n\\n\\n\\n\\n\\n\\n\\n\\n\\n\\n\\n\\n\\n...   \n",
       "2  \\n\\n\\n\\n\\n\\n\\n\\n\\n\\n\\n\\n\\n\\n\\n\\n\\n\\n\\n\\n\\n\\n\\n...   \n",
       "3  \\n\\n\\n\\n\\n\\n\\n\\n\\n\\n\\n\\n\\n\\n\\n\\n\\n\\n\\n\\n\\n\\n\\n...   \n",
       "4  \\n\\n\\n\\n\\n\\n\\n\\n\\n\\n\\n\\n\\n\\n\\n\\n\\n\\n\\n\\n\\n\\n\\n...   \n",
       "5  \\n\\n\\n\\n\\n\\n\\n\\n\\n\\n\\n\\n\\n\\n\\n\\n\\n\\n\\n\\n\\n\\n\\n...   \n",
       "6  \\n\\n\\n\\n\\n\\n\\n\\n\\n\\n\\n\\n\\n\\n\\n\\n\\n\\n\\n\\n\\n\\n\\n...   \n",
       "7  \\n\\n\\n\\n\\n\\n\\n\\n\\n\\n\\n\\n\\n\\n\\n\\n\\n\\n\\n\\n\\n\\n\\n...   \n",
       "\n",
       "                                          clean_text  date_diff  \n",
       "0  kindly sit thank courtesy troop commander coul...        NaN  \n",
       "1  kindly sit salamat ho kortesiya ninyo troop co...        2.0  \n",
       "2  kindly sit thank courtesy ladies gentlemen usu...        0.0  \n",
       "3  kindly sit thank courtesy troop commander coul...        1.0  \n",
       "4  duterte duterte hinanap kayo noong election ni...        0.0  \n",
       "5  salamat panglingkod mo kanang una tanan kinaha...        2.0  \n",
       "6  thank courtesy kindly sit prepared speech two ...        3.0  \n",
       "7  kindly sit salamat courtesy ninyo [bakit dumid...        7.0  "
      ]
     },
     "execution_count": 3,
     "metadata": {},
     "output_type": "execute_result"
    }
   ],
   "source": [
    "df = df.sort_values('date').reset_index().drop('index', axis=1)\n",
    "df['date'] = pd.to_datetime(df['date'], format='%Y-%m-%d')\n",
    "df['date_diff'] = df['date'].diff().dt.days\n",
    "\n",
    "df.head(8)"
   ]
  },
  {
   "cell_type": "code",
   "execution_count": 4,
   "metadata": {},
   "outputs": [
    {
     "data": {
      "text/html": [
       "<div>\n",
       "<style scoped>\n",
       "    .dataframe tbody tr th:only-of-type {\n",
       "        vertical-align: middle;\n",
       "    }\n",
       "\n",
       "    .dataframe tbody tr th {\n",
       "        vertical-align: top;\n",
       "    }\n",
       "\n",
       "    .dataframe thead th {\n",
       "        text-align: right;\n",
       "    }\n",
       "</style>\n",
       "<table border=\"1\" class=\"dataframe\">\n",
       "  <thead>\n",
       "    <tr style=\"text-align: right;\">\n",
       "      <th></th>\n",
       "      <th>title</th>\n",
       "      <th>date</th>\n",
       "      <th>text</th>\n",
       "      <th>clean_text</th>\n",
       "      <th>date_diff</th>\n",
       "    </tr>\n",
       "  </thead>\n",
       "  <tbody>\n",
       "    <tr>\n",
       "      <td>414</td>\n",
       "      <td>Intervention of President Rodrigo Roa Duterte ...</td>\n",
       "      <td>2020-04-14</td>\n",
       "      <td>\\n\\n\\n\\n\\n\\n\\n\\n\\n\\n\\n\\n\\n\\n\\n\\n\\n\\n\\n\\n\\n\\n\\n...</td>\n",
       "      <td>thank mr chair majesty excellencies welcome le...</td>\n",
       "      <td>0.0</td>\n",
       "    </tr>\n",
       "    <tr>\n",
       "      <td>415</td>\n",
       "      <td>Talk to the People of President Rodrigo Roa Du...</td>\n",
       "      <td>2020-04-16</td>\n",
       "      <td>\\n\\n\\n\\n\\n\\n\\n\\n\\n\\n\\n\\n\\n\\n\\n\\n\\n\\n\\n\\n\\n\\n\\n...</td>\n",
       "      <td>mga kapatid kong pilipino nandito harap ninyo ...</td>\n",
       "      <td>2.0</td>\n",
       "    </tr>\n",
       "    <tr>\n",
       "      <td>416</td>\n",
       "      <td>Talk to the People of President Rodrigo Roa Du...</td>\n",
       "      <td>2020-04-24</td>\n",
       "      <td>\\n\\n\\n\\n\\n\\n\\n\\n\\n\\n\\n\\n\\n\\n\\n\\n\\n\\n\\n\\n\\n\\n\\n...</td>\n",
       "      <td>presidential spokesperson harry roque magandan...</td>\n",
       "      <td>8.0</td>\n",
       "    </tr>\n",
       "    <tr>\n",
       "      <td>417</td>\n",
       "      <td>Talk to the People of President Rodrigo Roa Du...</td>\n",
       "      <td>2020-04-27</td>\n",
       "      <td>\\n\\n\\n\\n\\n\\n\\n\\n\\n\\n\\n\\n\\n\\n\\n\\n\\n\\n\\n\\n\\n\\n\\n...</td>\n",
       "      <td>dost secretary fortunato dela pea susunod kahi...</td>\n",
       "      <td>3.0</td>\n",
       "    </tr>\n",
       "    <tr>\n",
       "      <td>418</td>\n",
       "      <td>Talk to the People of President Rodrigo Roa Du...</td>\n",
       "      <td>2020-05-04</td>\n",
       "      <td>\\n\\n\\n\\n\\n\\n\\n\\n\\n\\n\\n\\n\\n\\n\\n\\n\\n\\n\\n\\n\\n\\n\\n...</td>\n",
       "      <td>president duterte reduced changed way life eve...</td>\n",
       "      <td>7.0</td>\n",
       "    </tr>\n",
       "  </tbody>\n",
       "</table>\n",
       "</div>"
      ],
      "text/plain": [
       "                                                 title       date  \\\n",
       "414  Intervention of President Rodrigo Roa Duterte ... 2020-04-14   \n",
       "415  Talk to the People of President Rodrigo Roa Du... 2020-04-16   \n",
       "416  Talk to the People of President Rodrigo Roa Du... 2020-04-24   \n",
       "417  Talk to the People of President Rodrigo Roa Du... 2020-04-27   \n",
       "418  Talk to the People of President Rodrigo Roa Du... 2020-05-04   \n",
       "\n",
       "                                                  text  \\\n",
       "414  \\n\\n\\n\\n\\n\\n\\n\\n\\n\\n\\n\\n\\n\\n\\n\\n\\n\\n\\n\\n\\n\\n\\n...   \n",
       "415  \\n\\n\\n\\n\\n\\n\\n\\n\\n\\n\\n\\n\\n\\n\\n\\n\\n\\n\\n\\n\\n\\n\\n...   \n",
       "416  \\n\\n\\n\\n\\n\\n\\n\\n\\n\\n\\n\\n\\n\\n\\n\\n\\n\\n\\n\\n\\n\\n\\n...   \n",
       "417  \\n\\n\\n\\n\\n\\n\\n\\n\\n\\n\\n\\n\\n\\n\\n\\n\\n\\n\\n\\n\\n\\n\\n...   \n",
       "418  \\n\\n\\n\\n\\n\\n\\n\\n\\n\\n\\n\\n\\n\\n\\n\\n\\n\\n\\n\\n\\n\\n\\n...   \n",
       "\n",
       "                                            clean_text  date_diff  \n",
       "414  thank mr chair majesty excellencies welcome le...        0.0  \n",
       "415  mga kapatid kong pilipino nandito harap ninyo ...        2.0  \n",
       "416  presidential spokesperson harry roque magandan...        8.0  \n",
       "417  dost secretary fortunato dela pea susunod kahi...        3.0  \n",
       "418  president duterte reduced changed way life eve...        7.0  "
      ]
     },
     "execution_count": 4,
     "metadata": {},
     "output_type": "execute_result"
    }
   ],
   "source": [
    "df.tail()"
   ]
  },
  {
   "cell_type": "code",
   "execution_count": 5,
   "metadata": {},
   "outputs": [
    {
     "data": {
      "image/png": "[encoded data removed]",
      "text/plain": [
       "<Figure size 1368x792 with 1 Axes>"
      ]
     },
     "metadata": {},
     "output_type": "display_data"
    }
   ],
   "source": [
    "ax = df.plot(\n",
    "    x='date', \n",
    "    y='date_diff', \n",
    "    rot=0,\n",
    "    figsize=(19,11)\n",
    ").set_title(\"Differences in dates of speeches\", fontsize=15)\n",
    "plt.xticks(fontsize=9)\n",
    "plt.show()"
   ]
  },
  {
   "cell_type": "markdown",
   "metadata": {},
   "source": [
    "# N-gram and TF-IDF"
   ]
  },
  {
   "cell_type": "code",
   "execution_count": 6,
   "metadata": {},
   "outputs": [],
   "source": [
    "def texts_to_ngram(text, n=2):\n",
    "    vectorizer = CountVectorizer(\n",
    "        ngram_range=(n, n),\n",
    "        token_pattern=r'\\b\\w+\\b',\n",
    "        min_df=1,\n",
    "        max_features=2000)\n",
    "    dtm = vectorizer.fit_transform(text)\n",
    "    #pickle.dump(vectorizer, open('out/ngram.pk', 'wb'))\n",
    "    return dtm, vectorizer\n",
    "\n",
    "def texts_to_tfidf(text):\n",
    "    vectorizer = TfidfVectorizer(max_features=2000)\n",
    "    tfidf = vectorizer.fit_transform(text)\n",
    "    #pickle.dump(vectorizer, open('out/tfidf.pk', 'wb'))\n",
    "    return tfidf, vectorizer"
   ]
  },
  {
   "cell_type": "code",
   "execution_count": 327,
   "metadata": {},
   "outputs": [
    {
     "name": "stdout",
     "output_type": "stream",
     "text": [
      "Ngram matrix shape: (419, 2000)\n"
     ]
    },
    {
     "data": {
      "text/plain": [
       "[('kindly sit thank', 766),\n",
       " ('sit thank courtesy', 1637),\n",
       " ('give tikas pahinga', 387),\n",
       " ('vice president maria', 1789),\n",
       " ('president maria leonor', 1406),\n",
       " ('national defense secretary', 1156),\n",
       " ('defense secretary delfin', 216),\n",
       " ('secretary delfin lorenzana', 1567),\n",
       " ('delfin lorenzana members', 221),\n",
       " ('lorenzana members cabinet', 905)]"
      ]
     },
     "execution_count": 327,
     "metadata": {},
     "output_type": "execute_result"
    }
   ],
   "source": [
    "# Get ngram matrix\n",
    "ngram, ngram_v = texts_to_ngram(df['clean_text'], n=3)\n",
    "print('Ngram matrix shape:', ngram.toarray().shape)\n",
    "list(ngram_v.vocabulary_.items())[0:10]"
   ]
  },
  {
   "cell_type": "code",
   "execution_count": 335,
   "metadata": {},
   "outputs": [
    {
     "data": {
      "text/html": [
       "<div>\n",
       "<style scoped>\n",
       "    .dataframe tbody tr th:only-of-type {\n",
       "        vertical-align: middle;\n",
       "    }\n",
       "\n",
       "    .dataframe tbody tr th {\n",
       "        vertical-align: top;\n",
       "    }\n",
       "\n",
       "    .dataframe thead th {\n",
       "        text-align: right;\n",
       "    }\n",
       "</style>\n",
       "<table border=\"1\" class=\"dataframe\">\n",
       "  <thead>\n",
       "    <tr style=\"text-align: right;\">\n",
       "      <th></th>\n",
       "      <th>title</th>\n",
       "      <th>date</th>\n",
       "      <th>text</th>\n",
       "      <th>clean_text</th>\n",
       "      <th>date_diff</th>\n",
       "      <th>swear_words_num</th>\n",
       "      <th>swear_words</th>\n",
       "      <th>modified_text</th>\n",
       "    </tr>\n",
       "  </thead>\n",
       "  <tbody>\n",
       "    <tr>\n",
       "      <td>0</td>\n",
       "      <td>Speech of President Rodrigo Roa Duterte during...</td>\n",
       "      <td>2018-03-18</td>\n",
       "      <td>\\n\\n\\n\\n\\n\\n\\n\\n\\n\\n\\n\\n\\n\\n\\n\\n\\n\\n\\n\\n\\n\\n\\n...</td>\n",
       "      <td>kindly sit thank courtesy troop commander coul...</td>\n",
       "      <td>NaN</td>\n",
       "      <td>5</td>\n",
       "      <td>[g***, b***, b***, g***, t**** i**]</td>\n",
       "      <td>Kindly sit down. Thank you for your courtesy. ...</td>\n",
       "    </tr>\n",
       "    <tr>\n",
       "      <td>1</td>\n",
       "      <td>Speech of President Rodrigo Roa Duterte during...</td>\n",
       "      <td>2018-03-20</td>\n",
       "      <td>\\n\\n\\n\\n\\n\\n\\n\\n\\n\\n\\n\\n\\n\\n\\n\\n\\n\\n\\n\\n\\n\\n\\n...</td>\n",
       "      <td>kindly sit salamat ho kortesiya ninyo troop co...</td>\n",
       "      <td>2.0</td>\n",
       "      <td>0</td>\n",
       "      <td>[]</td>\n",
       "      <td>Kindly sit down and salamat ho sa kortesiya ni...</td>\n",
       "    </tr>\n",
       "    <tr>\n",
       "      <td>2</td>\n",
       "      <td>Speech of President Rodrigo Roa Duterte during...</td>\n",
       "      <td>2018-03-20</td>\n",
       "      <td>\\n\\n\\n\\n\\n\\n\\n\\n\\n\\n\\n\\n\\n\\n\\n\\n\\n\\n\\n\\n\\n\\n\\n...</td>\n",
       "      <td>kindly sit thank courtesy ladies gentlemen usu...</td>\n",
       "      <td>0.0</td>\n",
       "      <td>51</td>\n",
       "      <td>[p***** i**, p****** i****, t***, l****, g***,...</td>\n",
       "      <td>Kindly sit down. Thank you for your courtesy, ...</td>\n",
       "    </tr>\n",
       "    <tr>\n",
       "      <td>3</td>\n",
       "      <td>Speech of President Rodrigo Roa Duterte during...</td>\n",
       "      <td>2018-03-21</td>\n",
       "      <td>\\n\\n\\n\\n\\n\\n\\n\\n\\n\\n\\n\\n\\n\\n\\n\\n\\n\\n\\n\\n\\n\\n\\n...</td>\n",
       "      <td>kindly sit thank courtesy troop commander coul...</td>\n",
       "      <td>1.0</td>\n",
       "      <td>17</td>\n",
       "      <td>[g***, g***, b****, p***** i**, l****, p***** ...</td>\n",
       "      <td>Kindly sit down. Thank you for your courtesy. ...</td>\n",
       "    </tr>\n",
       "    <tr>\n",
       "      <td>4</td>\n",
       "      <td>Speech of President Rodrigo Roa Duterte during...</td>\n",
       "      <td>2018-03-21</td>\n",
       "      <td>\\n\\n\\n\\n\\n\\n\\n\\n\\n\\n\\n\\n\\n\\n\\n\\n\\n\\n\\n\\n\\n\\n\\n...</td>\n",
       "      <td>duterte duterte hinanap kayo noong election ni...</td>\n",
       "      <td>0.0</td>\n",
       "      <td>82</td>\n",
       "      <td>[l****, l*****, g***, p**** i***, p***** i**, ...</td>\n",
       "      <td>Duterte, Duterte, hinanap ko kayo noong electi...</td>\n",
       "    </tr>\n",
       "  </tbody>\n",
       "</table>\n",
       "</div>"
      ],
      "text/plain": [
       "                                               title       date  \\\n",
       "0  Speech of President Rodrigo Roa Duterte during... 2018-03-18   \n",
       "1  Speech of President Rodrigo Roa Duterte during... 2018-03-20   \n",
       "2  Speech of President Rodrigo Roa Duterte during... 2018-03-20   \n",
       "3  Speech of President Rodrigo Roa Duterte during... 2018-03-21   \n",
       "4  Speech of President Rodrigo Roa Duterte during... 2018-03-21   \n",
       "\n",
       "                                                text  \\\n",
       "0  \\n\\n\\n\\n\\n\\n\\n\\n\\n\\n\\n\\n\\n\\n\\n\\n\\n\\n\\n\\n\\n\\n\\n...   \n",
       "1  \\n\\n\\n\\n\\n\\n\\n\\n\\n\\n\\n\\n\\n\\n\\n\\n\\n\\n\\n\\n\\n\\n\\n...   \n",
       "2  \\n\\n\\n\\n\\n\\n\\n\\n\\n\\n\\n\\n\\n\\n\\n\\n\\n\\n\\n\\n\\n\\n\\n...   \n",
       "3  \\n\\n\\n\\n\\n\\n\\n\\n\\n\\n\\n\\n\\n\\n\\n\\n\\n\\n\\n\\n\\n\\n\\n...   \n",
       "4  \\n\\n\\n\\n\\n\\n\\n\\n\\n\\n\\n\\n\\n\\n\\n\\n\\n\\n\\n\\n\\n\\n\\n...   \n",
       "\n",
       "                                          clean_text  date_diff  \\\n",
       "0  kindly sit thank courtesy troop commander coul...        NaN   \n",
       "1  kindly sit salamat ho kortesiya ninyo troop co...        2.0   \n",
       "2  kindly sit thank courtesy ladies gentlemen usu...        0.0   \n",
       "3  kindly sit thank courtesy troop commander coul...        1.0   \n",
       "4  duterte duterte hinanap kayo noong election ni...        0.0   \n",
       "\n",
       "   swear_words_num                                        swear_words  \\\n",
       "0                5                [g***, b***, b***, g***, t**** i**]   \n",
       "1                0                                                 []   \n",
       "2               51  [p***** i**, p****** i****, t***, l****, g***,...   \n",
       "3               17  [g***, g***, b****, p***** i**, l****, p***** ...   \n",
       "4               82  [l****, l*****, g***, p**** i***, p***** i**, ...   \n",
       "\n",
       "                                       modified_text  \n",
       "0  Kindly sit down. Thank you for your courtesy. ...  \n",
       "1  Kindly sit down and salamat ho sa kortesiya ni...  \n",
       "2  Kindly sit down. Thank you for your courtesy, ...  \n",
       "3  Kindly sit down. Thank you for your courtesy. ...  \n",
       "4  Duterte, Duterte, hinanap ko kayo noong electi...  "
      ]
     },
     "execution_count": 335,
     "metadata": {},
     "output_type": "execute_result"
    }
   ],
   "source": [
    "# Modify original text to cut out first part and to remove line breaks\n",
    "def modify_data(text):\n",
    "    if not isinstance(text, float):\n",
    "        index_of_date = text.find(']')\n",
    "        text = text[index_of_date+1:]\n",
    "        text = ' '.join(text.split())\n",
    "    \n",
    "    return text\n",
    "\n",
    "df['modified_text'] = df['text'].apply(modify_data)\n",
    "df.head()"
   ]
  },
  {
   "cell_type": "code",
   "execution_count": 8,
   "metadata": {},
   "outputs": [
    {
     "name": "stdout",
     "output_type": "stream",
     "text": [
      "TFIDF matrix shape: (419, 2000)\n"
     ]
    },
    {
     "data": {
      "text/plain": [
       "[('kindly', 899),\n",
       " ('sit', 1673),\n",
       " ('thank', 1806),\n",
       " ('courtesy', 368),\n",
       " ('commander', 329),\n",
       " ('could', 361),\n",
       " ('give', 640),\n",
       " ('order', 1315),\n",
       " ('vice', 1923),\n",
       " ('president', 1448)]"
      ]
     },
     "execution_count": 8,
     "metadata": {},
     "output_type": "execute_result"
    }
   ],
   "source": [
    "# Get TFIDF matrix\n",
    "tfidf, tfidf_v = texts_to_tfidf(df['clean_text'])\n",
    "print('TFIDF matrix shape:', tfidf.toarray().shape)\n",
    "list(tfidf_v.vocabulary_.items())[0:10]"
   ]
  },
  {
   "cell_type": "markdown",
   "metadata": {},
   "source": [
    "# Term Frequencies"
   ]
  },
  {
   "cell_type": "code",
   "execution_count": 9,
   "metadata": {},
   "outputs": [],
   "source": [
    "def vector_to_frequency(vector, vectorizer):\n",
    "    \"\"\"\n",
    "    Return a list of words and their corresponding occurence in the corpus\n",
    "    \"\"\"\n",
    "    total = vector.sum(axis=0)\n",
    "    frequency = [(w, total[0, i]) for w, i in vectorizer.vocabulary_.items()]\n",
    "    frequency = pd.DataFrame(frequency, columns=['term', 'frequency'])\n",
    "    frequency = frequency.sort_values(by='frequency', ascending=False).reset_index(drop=True)\n",
    "    return frequency"
   ]
  },
  {
   "cell_type": "code",
   "execution_count": 332,
   "metadata": {},
   "outputs": [
    {
     "data": {
      "text/html": [
       "<div>\n",
       "<style scoped>\n",
       "    .dataframe tbody tr th:only-of-type {\n",
       "        vertical-align: middle;\n",
       "    }\n",
       "\n",
       "    .dataframe tbody tr th {\n",
       "        vertical-align: top;\n",
       "    }\n",
       "\n",
       "    .dataframe thead th {\n",
       "        text-align: right;\n",
       "    }\n",
       "</style>\n",
       "<table border=\"1\" class=\"dataframe\">\n",
       "  <thead>\n",
       "    <tr style=\"text-align: right;\">\n",
       "      <th></th>\n",
       "      <th>term</th>\n",
       "      <th>frequency</th>\n",
       "    </tr>\n",
       "  </thead>\n",
       "  <tbody>\n",
       "    <tr>\n",
       "      <td>0</td>\n",
       "      <td>mga p i</td>\n",
       "      <td>270</td>\n",
       "    </tr>\n",
       "    <tr>\n",
       "      <td>1</td>\n",
       "      <td>p i mo</td>\n",
       "      <td>219</td>\n",
       "    </tr>\n",
       "    <tr>\n",
       "      <td>2</td>\n",
       "      <td>sir president duterte</td>\n",
       "      <td>204</td>\n",
       "    </tr>\n",
       "    <tr>\n",
       "      <td>3</td>\n",
       "      <td>p i ka</td>\n",
       "      <td>175</td>\n",
       "    </tr>\n",
       "    <tr>\n",
       "      <td>4</td>\n",
       "      <td>p i yan</td>\n",
       "      <td>136</td>\n",
       "    </tr>\n",
       "  </tbody>\n",
       "</table>\n",
       "</div>"
      ],
      "text/plain": [
       "                    term  frequency\n",
       "0                mga p i        270\n",
       "1                 p i mo        219\n",
       "2  sir president duterte        204\n",
       "3                 p i ka        175\n",
       "4                p i yan        136"
      ]
     },
     "execution_count": 332,
     "metadata": {},
     "output_type": "execute_result"
    }
   ],
   "source": [
    "freq_ngram = vector_to_frequency(ngram, ngram_v)\n",
    "freq_ngram.head()"
   ]
  },
  {
   "cell_type": "code",
   "execution_count": 334,
   "metadata": {},
   "outputs": [
    {
     "data": {
      "text/html": [
       "<div>\n",
       "<style scoped>\n",
       "    .dataframe tbody tr th:only-of-type {\n",
       "        vertical-align: middle;\n",
       "    }\n",
       "\n",
       "    .dataframe tbody tr th {\n",
       "        vertical-align: top;\n",
       "    }\n",
       "\n",
       "    .dataframe thead th {\n",
       "        text-align: right;\n",
       "    }\n",
       "</style>\n",
       "<table border=\"1\" class=\"dataframe\">\n",
       "  <thead>\n",
       "    <tr style=\"text-align: right;\">\n",
       "      <th></th>\n",
       "      <th>term</th>\n",
       "      <th>frequency</th>\n",
       "    </tr>\n",
       "  </thead>\n",
       "  <tbody>\n",
       "    <tr>\n",
       "      <td>0</td>\n",
       "      <td>yan</td>\n",
       "      <td>61.588303</td>\n",
       "    </tr>\n",
       "    <tr>\n",
       "      <td>1</td>\n",
       "      <td>mga</td>\n",
       "      <td>60.735861</td>\n",
       "    </tr>\n",
       "    <tr>\n",
       "      <td>2</td>\n",
       "      <td>mo</td>\n",
       "      <td>57.413046</td>\n",
       "    </tr>\n",
       "    <tr>\n",
       "      <td>3</td>\n",
       "      <td>hindi</td>\n",
       "      <td>47.479250</td>\n",
       "    </tr>\n",
       "    <tr>\n",
       "      <td>4</td>\n",
       "      <td>eh</td>\n",
       "      <td>35.609758</td>\n",
       "    </tr>\n",
       "  </tbody>\n",
       "</table>\n",
       "</div>"
      ],
      "text/plain": [
       "    term  frequency\n",
       "0    yan  61.588303\n",
       "1    mga  60.735861\n",
       "2     mo  57.413046\n",
       "3  hindi  47.479250\n",
       "4     eh  35.609758"
      ]
     },
     "execution_count": 334,
     "metadata": {},
     "output_type": "execute_result"
    }
   ],
   "source": [
    "freq_tfidf = vector_to_frequency(tfidf, tfidf_v)\n",
    "freq_tfidf.head()"
   ]
  },
  {
   "cell_type": "markdown",
   "metadata": {},
   "source": [
    "# Plotting Frequencies"
   ]
  },
  {
   "cell_type": "code",
   "execution_count": 16,
   "metadata": {},
   "outputs": [
    {
     "data": {
      "image/png": "[encoded data removed]",
      "text/plain": [
       "<Figure size 1800x576 with 1 Axes>"
      ]
     },
     "metadata": {},
     "output_type": "display_data"
    }
   ],
   "source": [
    "ax = freq_ngram.head(20).plot.bar(\n",
    "    x='term', \n",
    "    y='frequency', \n",
    "    rot=0,\n",
    "    figsize=(25,8)\n",
    ").set_title(\"Frequent terms in N-gram\", fontsize=15)\n",
    "plt.xticks(fontsize=9)\n",
    "plt.show()"
   ]
  },
  {
   "cell_type": "code",
   "execution_count": 22,
   "metadata": {},
   "outputs": [
    {
     "data": {
      "image/png": "[encoded data removed]",
      "text/plain": [
       "<Figure size 1800x576 with 1 Axes>"
      ]
     },
     "metadata": {},
     "output_type": "display_data"
    }
   ],
   "source": [
    "ax2 = freq_tfidf.head(20).plot.bar(\n",
    "    x='term', \n",
    "    y='frequency', \n",
    "    rot=0,\n",
    "    figsize=(25,8)\n",
    ").set_title(\"Frequent terms in N-gram\", fontsize=15)\n",
    "plt.xticks(fontsize=12)\n",
    "plt.show()"
   ]
  },
  {
   "cell_type": "code",
   "execution_count": 81,
   "metadata": {},
   "outputs": [],
   "source": [
    "# Link: https://github.com/daniddelrio/Philippine-Contraception-Discourse/blob/master/05_text_analysis_comments.ipynb"
   ]
  },
  {
   "cell_type": "markdown",
   "metadata": {},
   "source": [
    "# Swear Words per Speech"
   ]
  },
  {
   "cell_type": "code",
   "execution_count": 84,
   "metadata": {},
   "outputs": [
    {
     "data": {
      "text/html": [
       "<div>\n",
       "<style scoped>\n",
       "    .dataframe tbody tr th:only-of-type {\n",
       "        vertical-align: middle;\n",
       "    }\n",
       "\n",
       "    .dataframe tbody tr th {\n",
       "        vertical-align: top;\n",
       "    }\n",
       "\n",
       "    .dataframe thead th {\n",
       "        text-align: right;\n",
       "    }\n",
       "</style>\n",
       "<table border=\"1\" class=\"dataframe\">\n",
       "  <thead>\n",
       "    <tr style=\"text-align: right;\">\n",
       "      <th></th>\n",
       "      <th>title</th>\n",
       "      <th>date</th>\n",
       "      <th>text</th>\n",
       "      <th>clean_text</th>\n",
       "      <th>date_diff</th>\n",
       "      <th>swear_words_num</th>\n",
       "      <th>swear_words</th>\n",
       "    </tr>\n",
       "  </thead>\n",
       "  <tbody>\n",
       "    <tr>\n",
       "      <td>0</td>\n",
       "      <td>Speech of President Rodrigo Roa Duterte during...</td>\n",
       "      <td>2018-03-18</td>\n",
       "      <td>\\n\\n\\n\\n\\n\\n\\n\\n\\n\\n\\n\\n\\n\\n\\n\\n\\n\\n\\n\\n\\n\\n\\n...</td>\n",
       "      <td>kindly sit thank courtesy troop commander coul...</td>\n",
       "      <td>NaN</td>\n",
       "      <td>5</td>\n",
       "      <td>[g***, b***, b***, g***, t**** i**]</td>\n",
       "    </tr>\n",
       "    <tr>\n",
       "      <td>1</td>\n",
       "      <td>Speech of President Rodrigo Roa Duterte during...</td>\n",
       "      <td>2018-03-20</td>\n",
       "      <td>\\n\\n\\n\\n\\n\\n\\n\\n\\n\\n\\n\\n\\n\\n\\n\\n\\n\\n\\n\\n\\n\\n\\n...</td>\n",
       "      <td>kindly sit salamat ho kortesiya ninyo troop co...</td>\n",
       "      <td>2.0</td>\n",
       "      <td>0</td>\n",
       "      <td>[]</td>\n",
       "    </tr>\n",
       "    <tr>\n",
       "      <td>2</td>\n",
       "      <td>Speech of President Rodrigo Roa Duterte during...</td>\n",
       "      <td>2018-03-20</td>\n",
       "      <td>\\n\\n\\n\\n\\n\\n\\n\\n\\n\\n\\n\\n\\n\\n\\n\\n\\n\\n\\n\\n\\n\\n\\n...</td>\n",
       "      <td>kindly sit thank courtesy ladies gentlemen usu...</td>\n",
       "      <td>0.0</td>\n",
       "      <td>51</td>\n",
       "      <td>[p***** i**, p****** i****, t***, l****, g***,...</td>\n",
       "    </tr>\n",
       "    <tr>\n",
       "      <td>3</td>\n",
       "      <td>Speech of President Rodrigo Roa Duterte during...</td>\n",
       "      <td>2018-03-21</td>\n",
       "      <td>\\n\\n\\n\\n\\n\\n\\n\\n\\n\\n\\n\\n\\n\\n\\n\\n\\n\\n\\n\\n\\n\\n\\n...</td>\n",
       "      <td>kindly sit thank courtesy troop commander coul...</td>\n",
       "      <td>1.0</td>\n",
       "      <td>17</td>\n",
       "      <td>[g***, g***, b****, p***** i**, l****, p***** ...</td>\n",
       "    </tr>\n",
       "    <tr>\n",
       "      <td>4</td>\n",
       "      <td>Speech of President Rodrigo Roa Duterte during...</td>\n",
       "      <td>2018-03-21</td>\n",
       "      <td>\\n\\n\\n\\n\\n\\n\\n\\n\\n\\n\\n\\n\\n\\n\\n\\n\\n\\n\\n\\n\\n\\n\\n...</td>\n",
       "      <td>duterte duterte hinanap kayo noong election ni...</td>\n",
       "      <td>0.0</td>\n",
       "      <td>82</td>\n",
       "      <td>[l****, l*****, g***, p**** i***, p***** i**, ...</td>\n",
       "    </tr>\n",
       "  </tbody>\n",
       "</table>\n",
       "</div>"
      ],
      "text/plain": [
       "                                               title       date  \\\n",
       "0  Speech of President Rodrigo Roa Duterte during... 2018-03-18   \n",
       "1  Speech of President Rodrigo Roa Duterte during... 2018-03-20   \n",
       "2  Speech of President Rodrigo Roa Duterte during... 2018-03-20   \n",
       "3  Speech of President Rodrigo Roa Duterte during... 2018-03-21   \n",
       "4  Speech of President Rodrigo Roa Duterte during... 2018-03-21   \n",
       "\n",
       "                                                text  \\\n",
       "0  \\n\\n\\n\\n\\n\\n\\n\\n\\n\\n\\n\\n\\n\\n\\n\\n\\n\\n\\n\\n\\n\\n\\n...   \n",
       "1  \\n\\n\\n\\n\\n\\n\\n\\n\\n\\n\\n\\n\\n\\n\\n\\n\\n\\n\\n\\n\\n\\n\\n...   \n",
       "2  \\n\\n\\n\\n\\n\\n\\n\\n\\n\\n\\n\\n\\n\\n\\n\\n\\n\\n\\n\\n\\n\\n\\n...   \n",
       "3  \\n\\n\\n\\n\\n\\n\\n\\n\\n\\n\\n\\n\\n\\n\\n\\n\\n\\n\\n\\n\\n\\n\\n...   \n",
       "4  \\n\\n\\n\\n\\n\\n\\n\\n\\n\\n\\n\\n\\n\\n\\n\\n\\n\\n\\n\\n\\n\\n\\n...   \n",
       "\n",
       "                                          clean_text  date_diff  \\\n",
       "0  kindly sit thank courtesy troop commander coul...        NaN   \n",
       "1  kindly sit salamat ho kortesiya ninyo troop co...        2.0   \n",
       "2  kindly sit thank courtesy ladies gentlemen usu...        0.0   \n",
       "3  kindly sit thank courtesy troop commander coul...        1.0   \n",
       "4  duterte duterte hinanap kayo noong election ni...        0.0   \n",
       "\n",
       "   swear_words_num                                        swear_words  \n",
       "0                5                [g***, b***, b***, g***, t**** i**]  \n",
       "1                0                                                 []  \n",
       "2               51  [p***** i**, p****** i****, t***, l****, g***,...  \n",
       "3               17  [g***, g***, b****, p***** i**, l****, p***** ...  \n",
       "4               82  [l****, l*****, g***, p**** i***, p***** i**, ...  "
      ]
     },
     "execution_count": 84,
     "metadata": {},
     "output_type": "execute_result"
    }
   ],
   "source": [
    "swear_words_pattern = r'([a-z]\\*{2,} [a-z]\\*{2,}|[a-z]\\*{2,})'\n",
    "df['swear_words_num'] = df['clean_text'].apply(lambda x : len(re.findall(swear_words_pattern, x)))\n",
    "df.head()"
   ]
  },
  {
   "cell_type": "code",
   "execution_count": 52,
   "metadata": {},
   "outputs": [
    {
     "data": {
      "text/plain": [
       "<matplotlib.axes._subplots.AxesSubplot at 0x12342c910>"
      ]
     },
     "execution_count": 52,
     "metadata": {},
     "output_type": "execute_result"
    },
    {
     "data": {
      "image/png": "[encoded data removed]",
      "text/plain": [
       "<Figure size 432x288 with 1 Axes>"
      ]
     },
     "metadata": {},
     "output_type": "display_data"
    }
   ],
   "source": [
    "sns.violinplot(data=df, x='swear_words_num')"
   ]
  },
  {
   "cell_type": "code",
   "execution_count": 58,
   "metadata": {},
   "outputs": [
    {
     "data": {
      "text/plain": [
       "array([[<matplotlib.axes._subplots.AxesSubplot object at 0x12b9a2510>]],\n",
       "      dtype=object)"
      ]
     },
     "execution_count": 58,
     "metadata": {},
     "output_type": "execute_result"
    },
    {
     "data": {
      "image/png": "[encoded data removed]",
      "text/plain": [
       "<Figure size 432x288 with 1 Axes>"
      ]
     },
     "metadata": {},
     "output_type": "display_data"
    }
   ],
   "source": [
    "df.hist(column='swear_words_num', bins=10)"
   ]
  },
  {
   "cell_type": "code",
   "execution_count": 79,
   "metadata": {},
   "outputs": [
    {
     "data": {
      "text/plain": [
       "{'p***** i**': 1710,\n",
       " 'y***': 406,\n",
       " 'g***': 388,\n",
       " 't*** i**': 386,\n",
       " 'p***': 339,\n",
       " 'p***** i****': 334,\n",
       " 'l****': 212,\n",
       " 'p****** i**': 186,\n",
       " 'b****': 182,\n",
       " 's***': 170}"
      ]
     },
     "execution_count": 79,
     "metadata": {},
     "output_type": "execute_result"
    }
   ],
   "source": [
    "df['swear_words'] = df['clean_text'].apply(lambda x : re.findall(swear_words_pattern, x))\n",
    "swear_words_freq = {}\n",
    "for i in range(df.shape[0]):\n",
    "    for word in df.loc[i, 'swear_words']:\n",
    "        if word not in swear_words_freq:\n",
    "            swear_words_freq[word] = 1\n",
    "        else:\n",
    "            swear_words_freq[word] += 1\n",
    "\n",
    "swear_words_freq = {k: v for k, v in sorted(swear_words_freq.items(), \n",
    "                                            key=lambda item: item[1],\n",
    "                                            reverse=True)[:10]}\n",
    "swear_words_freq"
   ]
  },
  {
   "cell_type": "markdown",
   "metadata": {},
   "source": [
    "# Proper Nouns"
   ]
  },
  {
   "cell_type": "code",
   "execution_count": 316,
   "metadata": {},
   "outputs": [
    {
     "data": {
      "text/plain": [
       "[('Vice President Maria Leonor Robredo',\n",
       "  'Vice President Maria Leonor Robredo',\n",
       "  ' Robredo'),\n",
       " ('e National', '', ''),\n",
       " ('Defense Secretary Delfin Lorenzana',\n",
       "  'Defense Secretary Delfin Lorenzana',\n",
       "  ' Lorenzana'),\n",
       " ('e Cabinet', '', ''),\n",
       " ('AFP Chief', 'AFP Chief', ' Chief'),\n",
       " ('f Staff', '', ''),\n",
       " ('General Rey Leonardo Guerrero',\n",
       "  'General Rey Leonardo Guerrero',\n",
       "  ' Guerrero'),\n",
       " ('e Philippine', '', ''),\n",
       " ('Military Academy', 'Military Academy', ' Academy'),\n",
       " ('PMA Superintendent', 'PMA Superintendent', ' Superintendent')]"
      ]
     },
     "execution_count": 316,
     "metadata": {},
     "output_type": "execute_result"
    }
   ],
   "source": [
    "# proper_nouns_pattern = r'[A-za-z] [A-Z]\\w+'\n",
    "proper_nouns_pattern = r'(([A-Z]\\w+( [A-Z]\\w+)+)|[A-Za-z] [A-Z]\\w+(?:-\\w+)*)'\n",
    "# proper_nouns_pattern_2 = r'[A-Za-z]+-[A-Z][A-Za-z]+'\n",
    "pattern = r'[A-Za-z]+-*[A-za-z]+'\n",
    "\n",
    "sample = df.loc[0, 'text']\n",
    "index_of_date = sample.find(']')\n",
    "sample = sample[index_of_date+1:]\n",
    "re.findall(proper_nouns_pattern, sample)[:10]"
   ]
  },
  {
   "cell_type": "code",
   "execution_count": 323,
   "metadata": {},
   "outputs": [
    {
     "data": {
      "text/plain": [
       "{'Davao': 1724,\n",
       " 'PRESIDENT DUTERTE': 1320,\n",
       " 'Philippines': 1224,\n",
       " 'Mindanao': 814,\n",
       " 'President': 756,\n",
       " 'God': 736,\n",
       " 'Cabinet': 675,\n",
       " 'Pilipino': 674,\n",
       " 'Filipino': 662,\n",
       " 'China': 654,\n",
       " 'NPA': 493,\n",
       " 'Bong': 468,\n",
       " 'Pilipinas': 446,\n",
       " 'Secretary': 439,\n",
       " 'Filipinos': 411,\n",
       " 'Duterte': 381,\n",
       " 'Congress': 368,\n",
       " 'Moro': 356,\n",
       " 'Inday': 322,\n",
       " 'Manila': 318,\n",
       " 'Bisaya': 317,\n",
       " 'America': 310,\n",
       " 'Philippine': 304,\n",
       " 'Bato': 301,\n",
       " 'Presidente': 299,\n",
       " 'Diyos': 294,\n",
       " 'General': 290,\n",
       " 'Boracay': 288,\n",
       " 'Cebu': 279,\n",
       " 'Chinese': 276}"
      ]
     },
     "execution_count": 323,
     "metadata": {},
     "output_type": "execute_result"
    }
   ],
   "source": [
    "proper_nouns_freq = {}\n",
    "for i in range(df.shape[0]):\n",
    "    text = df.loc[i, 'text']\n",
    "    index_of_date = text.find(']')\n",
    "    text = text[index_of_date+1:]\n",
    "    proper_nouns = re.findall(proper_nouns_pattern, text)\n",
    "    proper_nouns = [x[0][2:] if x[0][1] == ' ' else x[0] for x in proper_nouns]\n",
    "    for word in proper_nouns:\n",
    "        if word not in proper_nouns_freq:\n",
    "            proper_nouns_freq[word] = 1\n",
    "        else:\n",
    "            proper_nouns_freq[word] += 1\n",
    "\n",
    "proper_nouns_freq = {k: v for k, v in sorted(proper_nouns_freq.items(), \n",
    "                                            key=lambda item: item[1],\n",
    "                                            reverse=True)[:30]}\n",
    "proper_nouns_freq"
   ]
  },
  {
   "cell_type": "markdown",
   "metadata": {},
   "source": [
    "# PyLDAVis"
   ]
  },
  {
   "cell_type": "code",
   "execution_count": 339,
   "metadata": {},
   "outputs": [],
   "source": [
    "pyLDAvis.save_html(data=df['clean_text'],fileobj='pyldavis.html')"
   ]
  },
  {
   "cell_type": "markdown",
   "metadata": {},
   "source": [
    "# WordCloud"
   ]
  },
  {
   "cell_type": "code",
   "execution_count": 343,
   "metadata": {},
   "outputs": [
    {
     "ename": "TypeError",
     "evalue": "__init__() got an unexpected keyword argument 'words'",
     "output_type": "error",
     "traceback": [
      "\u001b[0;31m---------------------------------------------------------------------------\u001b[0m",
      "\u001b[0;31mTypeError\u001b[0m                                 Traceback (most recent call last)",
      "\u001b[0;32m<ipython-input-343-2ea43408fe46>\u001b[0m in \u001b[0;36m<module>\u001b[0;34m\u001b[0m\n\u001b[0;32m----> 1\u001b[0;31m \u001b[0mWordCloud\u001b[0m\u001b[0;34m(\u001b[0m\u001b[0mwords\u001b[0m\u001b[0;34m=\u001b[0m\u001b[0mdf\u001b[0m\u001b[0;34m[\u001b[0m\u001b[0;34m'clean_text'\u001b[0m\u001b[0;34m]\u001b[0m\u001b[0;34m)\u001b[0m\u001b[0;34m\u001b[0m\u001b[0;34m\u001b[0m\u001b[0m\n\u001b[0m",
      "\u001b[0;31mTypeError\u001b[0m: __init__() got an unexpected keyword argument 'words'"
     ]
    }
   ],
   "source": [
    "WordCloud()"
   ]
  },
  {
   "cell_type": "code",
   "execution_count": null,
   "metadata": {},
   "outputs": [],
   "source": []
  }
 ],
 "metadata": {
  "kernelspec": {
   "display_name": "dutertespeech",
   "language": "python",
   "name": "dutertespeech"
  },
  "language_info": {
   "codemirror_mode": {
    "name": "ipython",
    "version": 3
   },
   "file_extension": ".py",
   "mimetype": "text/x-python",
   "name": "python",
   "nbconvert_exporter": "python",
   "pygments_lexer": "ipython3",
   "version": "3.7.7"
  }
 },
 "nbformat": 4,
 "nbformat_minor": 4
}
